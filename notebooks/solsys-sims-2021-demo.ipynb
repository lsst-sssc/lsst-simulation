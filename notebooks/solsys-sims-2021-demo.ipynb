{
 "cells": [
  {
   "cell_type": "markdown",
   "metadata": {},
   "source": [
    "# LSST Solar System Simulations, June 2021"
   ]
  },
  {
   "cell_type": "markdown",
   "metadata": {},
   "source": [
    "Juric, Eggl, Jones, Fedorets, Cornwall, Berres, Chernyavskaya, Moeyens, Schwamb, et many many al."
   ]
  },
  {
   "cell_type": "markdown",
   "metadata": {},
   "source": [
    "This notebook illustrates what is available in the June 2021 version of the simulated LSST Solar System dataset. Use it as a starting point for your own experiments."
   ]
  },
  {
   "cell_type": "markdown",
   "metadata": {},
   "source": [
    "## Getting this notebook"
   ]
  },
  {
   "cell_type": "markdown",
   "metadata": {},
   "source": [
    "This notebook is available from https://github.com/lsst-sssc/lsst-simulation. Open a terminal and clone it into your home directory to run it:\n",
    "```\n",
    "    git clone https://github.com/lsst-sssc/lsst-simulation\n",
    "```"
   ]
  },
  {
   "cell_type": "markdown",
   "metadata": {},
   "source": [
    "## Connecting and inspecting available tables"
   ]
  },
  {
   "cell_type": "code",
   "execution_count": 2,
   "metadata": {},
   "outputs": [],
   "source": [
    "import psycopg2 as pg\n",
    "import pandas as pd\n",
    "import numpy as np\n",
    "import matplotlib.pyplot as plt"
   ]
  },
  {
   "cell_type": "code",
   "execution_count": 3,
   "metadata": {},
   "outputs": [],
   "source": [
    "pwd = open(\"/home/shared/sssc-db-pass.txt\").read()\n",
    "con = pg.connect(database=\"lsst_solsys\", user=\"sssc\", password=pwd, host=\"epyc.astro.washington.edu\", port=\"5432\")"
   ]
  },
  {
   "cell_type": "markdown",
   "metadata": {},
   "source": [
    "See which tables are available:"
   ]
  },
  {
   "cell_type": "code",
   "execution_count": 4,
   "metadata": {},
   "outputs": [
    {
     "data": {
      "text/html": [
       "<div>\n",
       "<style scoped>\n",
       "    .dataframe tbody tr th:only-of-type {\n",
       "        vertical-align: middle;\n",
       "    }\n",
       "\n",
       "    .dataframe tbody tr th {\n",
       "        vertical-align: top;\n",
       "    }\n",
       "\n",
       "    .dataframe thead th {\n",
       "        text-align: right;\n",
       "    }\n",
       "</style>\n",
       "<table border=\"1\" class=\"dataframe\">\n",
       "  <thead>\n",
       "    <tr style=\"text-align: right;\">\n",
       "      <th></th>\n",
       "    </tr>\n",
       "    <tr>\n",
       "      <th>table_name</th>\n",
       "    </tr>\n",
       "  </thead>\n",
       "  <tbody>\n",
       "    <tr>\n",
       "      <th>ssobjects</th>\n",
       "    </tr>\n",
       "    <tr>\n",
       "      <th>sssources</th>\n",
       "    </tr>\n",
       "    <tr>\n",
       "      <th>mpcorb</th>\n",
       "    </tr>\n",
       "    <tr>\n",
       "      <th>diasources</th>\n",
       "    </tr>\n",
       "  </tbody>\n",
       "</table>\n",
       "</div>"
      ],
      "text/plain": [
       "Empty DataFrame\n",
       "Columns: []\n",
       "Index: [ssobjects, sssources, mpcorb, diasources]"
      ]
     },
     "execution_count": 4,
     "metadata": {},
     "output_type": "execute_result"
    }
   ],
   "source": [
    "tables = pd.read_sql(\"SELECT table_name FROM information_schema.tables WHERE table_schema = 'public'\", con)\n",
    "tables = tables.set_index(\"table_name\")\n",
    "tables"
   ]
  },
  {
   "cell_type": "markdown",
   "metadata": {},
   "source": [
    "See how many rows does each table have (this may take a minute or two)."
   ]
  },
  {
   "cell_type": "code",
   "execution_count": 5,
   "metadata": {},
   "outputs": [
    {
     "name": "stdout",
     "output_type": "stream",
     "text": [
      "CPU times: user 11.1 ms, sys: 1.17 ms, total: 12.3 ms\n",
      "Wall time: 1min 11s\n"
     ]
    }
   ],
   "source": [
    "%%time\n",
    "tables[\"nrows\"] = np.zeros(len(tables), dtype=int)\n",
    "for table in tables.index:\n",
    "    df = pd.read_sql(f\"SELECT COUNT(*) FROM {table}\", con, params=dict(table=table))\n",
    "    tables[\"nrows\"].loc[table] = df[\"count\"].iloc[0]"
   ]
  },
  {
   "cell_type": "code",
   "execution_count": 6,
   "metadata": {},
   "outputs": [
    {
     "data": {
      "text/html": [
       "<div>\n",
       "<style scoped>\n",
       "    .dataframe tbody tr th:only-of-type {\n",
       "        vertical-align: middle;\n",
       "    }\n",
       "\n",
       "    .dataframe tbody tr th {\n",
       "        vertical-align: top;\n",
       "    }\n",
       "\n",
       "    .dataframe thead th {\n",
       "        text-align: right;\n",
       "    }\n",
       "</style>\n",
       "<table border=\"1\" class=\"dataframe\">\n",
       "  <thead>\n",
       "    <tr style=\"text-align: right;\">\n",
       "      <th></th>\n",
       "      <th>nrows</th>\n",
       "    </tr>\n",
       "    <tr>\n",
       "      <th>table_name</th>\n",
       "      <th></th>\n",
       "    </tr>\n",
       "  </thead>\n",
       "  <tbody>\n",
       "    <tr>\n",
       "      <th>ssobjects</th>\n",
       "      <td>10556741</td>\n",
       "    </tr>\n",
       "    <tr>\n",
       "      <th>sssources</th>\n",
       "      <td>1043415800</td>\n",
       "    </tr>\n",
       "    <tr>\n",
       "      <th>mpcorb</th>\n",
       "      <td>14600302</td>\n",
       "    </tr>\n",
       "    <tr>\n",
       "      <th>diasources</th>\n",
       "      <td>1043415800</td>\n",
       "    </tr>\n",
       "  </tbody>\n",
       "</table>\n",
       "</div>"
      ],
      "text/plain": [
       "                 nrows\n",
       "table_name            \n",
       "ssobjects     10556741\n",
       "sssources   1043415800\n",
       "mpcorb        14600302\n",
       "diasources  1043415800"
      ]
     },
     "execution_count": 6,
     "metadata": {},
     "output_type": "execute_result"
    }
   ],
   "source": [
    "tables"
   ]
  },
  {
   "cell_type": "markdown",
   "metadata": {},
   "source": [
    "Let's get a feel for the available data, by grabbing the top 5 rows of each table:"
   ]
  },
  {
   "cell_type": "code",
   "execution_count": 7,
   "metadata": {},
   "outputs": [
    {
     "data": {
      "text/html": [
       "<div>\n",
       "<style scoped>\n",
       "    .dataframe tbody tr th:only-of-type {\n",
       "        vertical-align: middle;\n",
       "    }\n",
       "\n",
       "    .dataframe tbody tr th {\n",
       "        vertical-align: top;\n",
       "    }\n",
       "\n",
       "    .dataframe thead th {\n",
       "        text-align: right;\n",
       "    }\n",
       "</style>\n",
       "<table border=\"1\" class=\"dataframe\">\n",
       "  <thead>\n",
       "    <tr style=\"text-align: right;\">\n",
       "      <th></th>\n",
       "      <th>diasourceid</th>\n",
       "      <th>ccdvisitid</th>\n",
       "      <th>diaobjectid</th>\n",
       "      <th>ssobjectid</th>\n",
       "      <th>_name</th>\n",
       "      <th>ssobjectreassoctime</th>\n",
       "      <th>midpointtai</th>\n",
       "      <th>ra</th>\n",
       "      <th>rasigma</th>\n",
       "      <th>decl</th>\n",
       "      <th>declsigma</th>\n",
       "      <th>ra_decl_cov</th>\n",
       "      <th>snr</th>\n",
       "      <th>filter</th>\n",
       "      <th>mag</th>\n",
       "      <th>magsigma</th>\n",
       "      <th>_v</th>\n",
       "      <th>_magtrue</th>\n",
       "      <th>_ratrue</th>\n",
       "      <th>_dectrue</th>\n",
       "    </tr>\n",
       "  </thead>\n",
       "  <tbody>\n",
       "    <tr>\n",
       "      <th>0</th>\n",
       "      <td>1952839109036039781</td>\n",
       "      <td>122231</td>\n",
       "      <td>1537215218520783399</td>\n",
       "      <td>819889643154482779</td>\n",
       "      <td>S1005CYCa</td>\n",
       "      <td>60039.037419</td>\n",
       "      <td>60039.037419</td>\n",
       "      <td>129.590684</td>\n",
       "      <td>0.000009</td>\n",
       "      <td>12.003733</td>\n",
       "      <td>0.000009</td>\n",
       "      <td>0.0</td>\n",
       "      <td>16.698526</td>\n",
       "      <td>i</td>\n",
       "      <td>21.043230</td>\n",
       "      <td>0.063147</td>\n",
       "      <td>21.521744</td>\n",
       "      <td>21.066744</td>\n",
       "      <td>129.590684</td>\n",
       "      <td>12.003725</td>\n",
       "    </tr>\n",
       "    <tr>\n",
       "      <th>1</th>\n",
       "      <td>1486543917817498729</td>\n",
       "      <td>123098</td>\n",
       "      <td>-7037468574229910592</td>\n",
       "      <td>5786782821283451137</td>\n",
       "      <td>S1005D4qa</td>\n",
       "      <td>60040.005246</td>\n",
       "      <td>60040.005246</td>\n",
       "      <td>124.049298</td>\n",
       "      <td>0.000010</td>\n",
       "      <td>-5.136787</td>\n",
       "      <td>0.000010</td>\n",
       "      <td>0.0</td>\n",
       "      <td>13.551331</td>\n",
       "      <td>i</td>\n",
       "      <td>21.699242</td>\n",
       "      <td>0.077302</td>\n",
       "      <td>22.062727</td>\n",
       "      <td>21.607727</td>\n",
       "      <td>124.049304</td>\n",
       "      <td>-5.136777</td>\n",
       "    </tr>\n",
       "    <tr>\n",
       "      <th>2</th>\n",
       "      <td>8744810120905494086</td>\n",
       "      <td>124777</td>\n",
       "      <td>8686809464008266824</td>\n",
       "      <td>-9093662608188820544</td>\n",
       "      <td>S1005D66a</td>\n",
       "      <td>60041.348960</td>\n",
       "      <td>60041.348960</td>\n",
       "      <td>283.045411</td>\n",
       "      <td>0.000008</td>\n",
       "      <td>-33.137396</td>\n",
       "      <td>0.000008</td>\n",
       "      <td>0.0</td>\n",
       "      <td>11.022760</td>\n",
       "      <td>y</td>\n",
       "      <td>21.476673</td>\n",
       "      <td>0.094285</td>\n",
       "      <td>21.766966</td>\n",
       "      <td>21.463966</td>\n",
       "      <td>283.045401</td>\n",
       "      <td>-33.137406</td>\n",
       "    </tr>\n",
       "    <tr>\n",
       "      <th>3</th>\n",
       "      <td>3452285572810631019</td>\n",
       "      <td>124834</td>\n",
       "      <td>-1859933907867084349</td>\n",
       "      <td>-9093662608188820544</td>\n",
       "      <td>S1005D66a</td>\n",
       "      <td>60041.375001</td>\n",
       "      <td>60041.375001</td>\n",
       "      <td>283.050372</td>\n",
       "      <td>0.000008</td>\n",
       "      <td>-33.138294</td>\n",
       "      <td>0.000008</td>\n",
       "      <td>0.0</td>\n",
       "      <td>11.308365</td>\n",
       "      <td>y</td>\n",
       "      <td>21.415295</td>\n",
       "      <td>0.092001</td>\n",
       "      <td>21.766676</td>\n",
       "      <td>21.463676</td>\n",
       "      <td>283.050357</td>\n",
       "      <td>-33.138322</td>\n",
       "    </tr>\n",
       "    <tr>\n",
       "      <th>4</th>\n",
       "      <td>-1529909586803787453</td>\n",
       "      <td>124861</td>\n",
       "      <td>3661636550541166030</td>\n",
       "      <td>-9093662608188820544</td>\n",
       "      <td>S1005D66a</td>\n",
       "      <td>60041.387444</td>\n",
       "      <td>60041.387444</td>\n",
       "      <td>283.052716</td>\n",
       "      <td>0.000007</td>\n",
       "      <td>-33.138754</td>\n",
       "      <td>0.000007</td>\n",
       "      <td>0.0</td>\n",
       "      <td>12.064641</td>\n",
       "      <td>y</td>\n",
       "      <td>21.430834</td>\n",
       "      <td>0.086458</td>\n",
       "      <td>21.766537</td>\n",
       "      <td>21.463537</td>\n",
       "      <td>283.052719</td>\n",
       "      <td>-33.138756</td>\n",
       "    </tr>\n",
       "  </tbody>\n",
       "</table>\n",
       "</div>"
      ],
      "text/plain": [
       "           diasourceid  ccdvisitid          diaobjectid           ssobjectid  \\\n",
       "0  1952839109036039781      122231  1537215218520783399   819889643154482779   \n",
       "1  1486543917817498729      123098 -7037468574229910592  5786782821283451137   \n",
       "2  8744810120905494086      124777  8686809464008266824 -9093662608188820544   \n",
       "3  3452285572810631019      124834 -1859933907867084349 -9093662608188820544   \n",
       "4 -1529909586803787453      124861  3661636550541166030 -9093662608188820544   \n",
       "\n",
       "              _name  ssobjectreassoctime   midpointtai          ra   rasigma  \\\n",
       "0  S1005CYCa                60039.037419  60039.037419  129.590684  0.000009   \n",
       "1  S1005D4qa                60040.005246  60040.005246  124.049298  0.000010   \n",
       "2  S1005D66a                60041.348960  60041.348960  283.045411  0.000008   \n",
       "3  S1005D66a                60041.375001  60041.375001  283.050372  0.000008   \n",
       "4  S1005D66a                60041.387444  60041.387444  283.052716  0.000007   \n",
       "\n",
       "        decl  declsigma  ra_decl_cov        snr filter        mag  magsigma  \\\n",
       "0  12.003733   0.000009          0.0  16.698526      i  21.043230  0.063147   \n",
       "1  -5.136787   0.000010          0.0  13.551331      i  21.699242  0.077302   \n",
       "2 -33.137396   0.000008          0.0  11.022760      y  21.476673  0.094285   \n",
       "3 -33.138294   0.000008          0.0  11.308365      y  21.415295  0.092001   \n",
       "4 -33.138754   0.000007          0.0  12.064641      y  21.430834  0.086458   \n",
       "\n",
       "          _v   _magtrue     _ratrue   _dectrue  \n",
       "0  21.521744  21.066744  129.590684  12.003725  \n",
       "1  22.062727  21.607727  124.049304  -5.136777  \n",
       "2  21.766966  21.463966  283.045401 -33.137406  \n",
       "3  21.766676  21.463676  283.050357 -33.138322  \n",
       "4  21.766537  21.463537  283.052719 -33.138756  "
      ]
     },
     "execution_count": 7,
     "metadata": {},
     "output_type": "execute_result"
    }
   ],
   "source": [
    "pd.read_sql(\"SELECT * FROM diasources LIMIT 5\", con)"
   ]
  },
  {
   "cell_type": "code",
   "execution_count": 8,
   "metadata": {
    "scrolled": true
   },
   "outputs": [
    {
     "data": {
      "text/html": [
       "<div>\n",
       "<style scoped>\n",
       "    .dataframe tbody tr th:only-of-type {\n",
       "        vertical-align: middle;\n",
       "    }\n",
       "\n",
       "    .dataframe tbody tr th {\n",
       "        vertical-align: top;\n",
       "    }\n",
       "\n",
       "    .dataframe thead th {\n",
       "        text-align: right;\n",
       "    }\n",
       "</style>\n",
       "<table border=\"1\" class=\"dataframe\">\n",
       "  <thead>\n",
       "    <tr style=\"text-align: right;\">\n",
       "      <th></th>\n",
       "      <th>ssobjectid</th>\n",
       "      <th>diasourceid</th>\n",
       "      <th>mpcuniqueid</th>\n",
       "      <th>eclipticlambda</th>\n",
       "      <th>eclipticbeta</th>\n",
       "      <th>galacticl</th>\n",
       "      <th>galacticb</th>\n",
       "      <th>phaseangle</th>\n",
       "      <th>heliocentricdist</th>\n",
       "      <th>topocentricdist</th>\n",
       "      <th>...</th>\n",
       "      <th>heliocentricz</th>\n",
       "      <th>heliocentricvx</th>\n",
       "      <th>heliocentricvy</th>\n",
       "      <th>heliocentricvz</th>\n",
       "      <th>topocentricx</th>\n",
       "      <th>topocentricy</th>\n",
       "      <th>topocentricz</th>\n",
       "      <th>topocentricvx</th>\n",
       "      <th>topocentricvy</th>\n",
       "      <th>topocentricvz</th>\n",
       "    </tr>\n",
       "  </thead>\n",
       "  <tbody>\n",
       "    <tr>\n",
       "      <th>0</th>\n",
       "      <td>819889643154482779</td>\n",
       "      <td>1952839109036039781</td>\n",
       "      <td>0</td>\n",
       "      <td>128.836575</td>\n",
       "      <td>-6.258677</td>\n",
       "      <td>213.949948</td>\n",
       "      <td>29.104339</td>\n",
       "      <td>18.748798</td>\n",
       "      <td>2.842328</td>\n",
       "      <td>2.284481</td>\n",
       "      <td>...</td>\n",
       "      <td>0.374356</td>\n",
       "      <td>-0.004101</td>\n",
       "      <td>-0.008415</td>\n",
       "      <td>-0.000889</td>\n",
       "      <td>-1.424062</td>\n",
       "      <td>1.721966</td>\n",
       "      <td>0.475116</td>\n",
       "      <td>-0.008015</td>\n",
       "      <td>0.007075</td>\n",
       "      <td>0.005753</td>\n",
       "    </tr>\n",
       "    <tr>\n",
       "      <th>1</th>\n",
       "      <td>5786782821283451137</td>\n",
       "      <td>1486543917817498729</td>\n",
       "      <td>0</td>\n",
       "      <td>127.700247</td>\n",
       "      <td>-24.230133</td>\n",
       "      <td>227.644419</td>\n",
       "      <td>16.234911</td>\n",
       "      <td>17.612328</td>\n",
       "      <td>3.106055</td>\n",
       "      <td>2.617551</td>\n",
       "      <td>...</td>\n",
       "      <td>-0.341533</td>\n",
       "      <td>-0.004793</td>\n",
       "      <td>-0.007634</td>\n",
       "      <td>-0.003896</td>\n",
       "      <td>-1.459697</td>\n",
       "      <td>2.160078</td>\n",
       "      <td>-0.234359</td>\n",
       "      <td>-0.008954</td>\n",
       "      <td>0.007755</td>\n",
       "      <td>0.002716</td>\n",
       "    </tr>\n",
       "    <tr>\n",
       "      <th>2</th>\n",
       "      <td>-9093662608188820544</td>\n",
       "      <td>8744810120905494086</td>\n",
       "      <td>0</td>\n",
       "      <td>281.072220</td>\n",
       "      <td>-10.198162</td>\n",
       "      <td>2.838461</td>\n",
       "      <td>-14.577027</td>\n",
       "      <td>19.033407</td>\n",
       "      <td>3.053244</td>\n",
       "      <td>2.785494</td>\n",
       "      <td>...</td>\n",
       "      <td>-1.638718</td>\n",
       "      <td>0.009758</td>\n",
       "      <td>-0.001617</td>\n",
       "      <td>-0.000669</td>\n",
       "      <td>0.526492</td>\n",
       "      <td>-2.272270</td>\n",
       "      <td>-1.522687</td>\n",
       "      <td>0.004808</td>\n",
       "      <td>0.013617</td>\n",
       "      <td>0.005900</td>\n",
       "    </tr>\n",
       "    <tr>\n",
       "      <th>3</th>\n",
       "      <td>-9093662608188820544</td>\n",
       "      <td>3452285572810631019</td>\n",
       "      <td>0</td>\n",
       "      <td>281.076340</td>\n",
       "      <td>-10.199436</td>\n",
       "      <td>2.839294</td>\n",
       "      <td>-14.581200</td>\n",
       "      <td>19.032654</td>\n",
       "      <td>3.053253</td>\n",
       "      <td>2.785145</td>\n",
       "      <td>...</td>\n",
       "      <td>-1.638735</td>\n",
       "      <td>0.009758</td>\n",
       "      <td>-0.001616</td>\n",
       "      <td>-0.000669</td>\n",
       "      <td>0.526617</td>\n",
       "      <td>-2.271916</td>\n",
       "      <td>-1.522533</td>\n",
       "      <td>0.004791</td>\n",
       "      <td>0.013579</td>\n",
       "      <td>0.005900</td>\n",
       "    </tr>\n",
       "    <tr>\n",
       "      <th>4</th>\n",
       "      <td>-9093662608188820544</td>\n",
       "      <td>-1529909586803787453</td>\n",
       "      <td>0</td>\n",
       "      <td>281.078284</td>\n",
       "      <td>-10.200073</td>\n",
       "      <td>2.839653</td>\n",
       "      <td>-14.583186</td>\n",
       "      <td>19.032290</td>\n",
       "      <td>3.053257</td>\n",
       "      <td>2.784979</td>\n",
       "      <td>...</td>\n",
       "      <td>-1.638743</td>\n",
       "      <td>0.009758</td>\n",
       "      <td>-0.001616</td>\n",
       "      <td>-0.000669</td>\n",
       "      <td>0.526676</td>\n",
       "      <td>-2.271747</td>\n",
       "      <td>-1.522460</td>\n",
       "      <td>0.004785</td>\n",
       "      <td>0.013561</td>\n",
       "      <td>0.005899</td>\n",
       "    </tr>\n",
       "  </tbody>\n",
       "</table>\n",
       "<p>5 rows × 29 columns</p>\n",
       "</div>"
      ],
      "text/plain": [
       "            ssobjectid          diasourceid  mpcuniqueid  eclipticlambda  \\\n",
       "0   819889643154482779  1952839109036039781            0      128.836575   \n",
       "1  5786782821283451137  1486543917817498729            0      127.700247   \n",
       "2 -9093662608188820544  8744810120905494086            0      281.072220   \n",
       "3 -9093662608188820544  3452285572810631019            0      281.076340   \n",
       "4 -9093662608188820544 -1529909586803787453            0      281.078284   \n",
       "\n",
       "   eclipticbeta   galacticl  galacticb  phaseangle  heliocentricdist  \\\n",
       "0     -6.258677  213.949948  29.104339   18.748798          2.842328   \n",
       "1    -24.230133  227.644419  16.234911   17.612328          3.106055   \n",
       "2    -10.198162    2.838461 -14.577027   19.033407          3.053244   \n",
       "3    -10.199436    2.839294 -14.581200   19.032654          3.053253   \n",
       "4    -10.200073    2.839653 -14.583186   19.032290          3.053257   \n",
       "\n",
       "   topocentricdist  ... heliocentricz heliocentricvx heliocentricvy  \\\n",
       "0         2.284481  ...      0.374356      -0.004101      -0.008415   \n",
       "1         2.617551  ...     -0.341533      -0.004793      -0.007634   \n",
       "2         2.785494  ...     -1.638718       0.009758      -0.001617   \n",
       "3         2.785145  ...     -1.638735       0.009758      -0.001616   \n",
       "4         2.784979  ...     -1.638743       0.009758      -0.001616   \n",
       "\n",
       "  heliocentricvz topocentricx topocentricy topocentricz  topocentricvx  \\\n",
       "0      -0.000889    -1.424062     1.721966     0.475116      -0.008015   \n",
       "1      -0.003896    -1.459697     2.160078    -0.234359      -0.008954   \n",
       "2      -0.000669     0.526492    -2.272270    -1.522687       0.004808   \n",
       "3      -0.000669     0.526617    -2.271916    -1.522533       0.004791   \n",
       "4      -0.000669     0.526676    -2.271747    -1.522460       0.004785   \n",
       "\n",
       "   topocentricvy  topocentricvz  \n",
       "0       0.007075       0.005753  \n",
       "1       0.007755       0.002716  \n",
       "2       0.013617       0.005900  \n",
       "3       0.013579       0.005900  \n",
       "4       0.013561       0.005899  \n",
       "\n",
       "[5 rows x 29 columns]"
      ]
     },
     "execution_count": 8,
     "metadata": {},
     "output_type": "execute_result"
    }
   ],
   "source": [
    "pd.read_sql(\"SELECT * FROM sssources LIMIT 5\", con)"
   ]
  },
  {
   "cell_type": "code",
   "execution_count": 9,
   "metadata": {
    "scrolled": true
   },
   "outputs": [
    {
     "data": {
      "text/html": [
       "<div>\n",
       "<style scoped>\n",
       "    .dataframe tbody tr th:only-of-type {\n",
       "        vertical-align: middle;\n",
       "    }\n",
       "\n",
       "    .dataframe tbody tr th {\n",
       "        vertical-align: top;\n",
       "    }\n",
       "\n",
       "    .dataframe thead th {\n",
       "        text-align: right;\n",
       "    }\n",
       "</style>\n",
       "<table border=\"1\" class=\"dataframe\">\n",
       "  <thead>\n",
       "    <tr style=\"text-align: right;\">\n",
       "      <th></th>\n",
       "      <th>ssobjectid</th>\n",
       "      <th>discoverysubmissiondate</th>\n",
       "      <th>firstobservationdate</th>\n",
       "      <th>arc</th>\n",
       "      <th>numobs</th>\n",
       "      <th>moid</th>\n",
       "      <th>moidtrueanomaly</th>\n",
       "      <th>moideclipticlongitude</th>\n",
       "      <th>moiddeltav</th>\n",
       "      <th>uh</th>\n",
       "      <th>...</th>\n",
       "      <th>yg12</th>\n",
       "      <th>yherr</th>\n",
       "      <th>yg12err</th>\n",
       "      <th>yh_yg12_cov</th>\n",
       "      <th>ychi2</th>\n",
       "      <th>yndata</th>\n",
       "      <th>maxextendedness</th>\n",
       "      <th>minextendedness</th>\n",
       "      <th>medianextendedness</th>\n",
       "      <th>flags</th>\n",
       "    </tr>\n",
       "  </thead>\n",
       "  <tbody>\n",
       "    <tr>\n",
       "      <th>0</th>\n",
       "      <td>668135024989</td>\n",
       "      <td>60797.136495</td>\n",
       "      <td>60790.136495</td>\n",
       "      <td>0.000000</td>\n",
       "      <td>1</td>\n",
       "      <td>0.0</td>\n",
       "      <td>0.0</td>\n",
       "      <td>0.0</td>\n",
       "      <td>0.0</td>\n",
       "      <td>None</td>\n",
       "      <td>...</td>\n",
       "      <td>NaN</td>\n",
       "      <td>NaN</td>\n",
       "      <td>NaN</td>\n",
       "      <td>NaN</td>\n",
       "      <td>NaN</td>\n",
       "      <td>0</td>\n",
       "      <td>0.0</td>\n",
       "      <td>0.0</td>\n",
       "      <td>0.0</td>\n",
       "      <td>0</td>\n",
       "    </tr>\n",
       "    <tr>\n",
       "      <th>1</th>\n",
       "      <td>3033569589766</td>\n",
       "      <td>63480.233685</td>\n",
       "      <td>63473.233685</td>\n",
       "      <td>1.975244</td>\n",
       "      <td>3</td>\n",
       "      <td>0.0</td>\n",
       "      <td>0.0</td>\n",
       "      <td>0.0</td>\n",
       "      <td>0.0</td>\n",
       "      <td>None</td>\n",
       "      <td>...</td>\n",
       "      <td>NaN</td>\n",
       "      <td>NaN</td>\n",
       "      <td>NaN</td>\n",
       "      <td>NaN</td>\n",
       "      <td>NaN</td>\n",
       "      <td>0</td>\n",
       "      <td>0.0</td>\n",
       "      <td>0.0</td>\n",
       "      <td>0.0</td>\n",
       "      <td>0</td>\n",
       "    </tr>\n",
       "    <tr>\n",
       "      <th>2</th>\n",
       "      <td>3148445770109</td>\n",
       "      <td>59937.159828</td>\n",
       "      <td>59930.159828</td>\n",
       "      <td>2693.060000</td>\n",
       "      <td>3</td>\n",
       "      <td>0.0</td>\n",
       "      <td>0.0</td>\n",
       "      <td>0.0</td>\n",
       "      <td>0.0</td>\n",
       "      <td>None</td>\n",
       "      <td>...</td>\n",
       "      <td>NaN</td>\n",
       "      <td>NaN</td>\n",
       "      <td>NaN</td>\n",
       "      <td>NaN</td>\n",
       "      <td>NaN</td>\n",
       "      <td>0</td>\n",
       "      <td>0.0</td>\n",
       "      <td>0.0</td>\n",
       "      <td>0.0</td>\n",
       "      <td>0</td>\n",
       "    </tr>\n",
       "    <tr>\n",
       "      <th>3</th>\n",
       "      <td>3369984299447</td>\n",
       "      <td>60203.374981</td>\n",
       "      <td>60196.374981</td>\n",
       "      <td>2582.777000</td>\n",
       "      <td>107</td>\n",
       "      <td>0.0</td>\n",
       "      <td>0.0</td>\n",
       "      <td>0.0</td>\n",
       "      <td>0.0</td>\n",
       "      <td>None</td>\n",
       "      <td>...</td>\n",
       "      <td>0.345189</td>\n",
       "      <td>0.087608</td>\n",
       "      <td>0.133565</td>\n",
       "      <td>0.010005</td>\n",
       "      <td>0.571543</td>\n",
       "      <td>7</td>\n",
       "      <td>0.0</td>\n",
       "      <td>0.0</td>\n",
       "      <td>0.0</td>\n",
       "      <td>0</td>\n",
       "    </tr>\n",
       "    <tr>\n",
       "      <th>4</th>\n",
       "      <td>3643818542061</td>\n",
       "      <td>59917.313961</td>\n",
       "      <td>59910.313961</td>\n",
       "      <td>46.793457</td>\n",
       "      <td>10</td>\n",
       "      <td>0.0</td>\n",
       "      <td>0.0</td>\n",
       "      <td>0.0</td>\n",
       "      <td>0.0</td>\n",
       "      <td>None</td>\n",
       "      <td>...</td>\n",
       "      <td>NaN</td>\n",
       "      <td>NaN</td>\n",
       "      <td>NaN</td>\n",
       "      <td>NaN</td>\n",
       "      <td>NaN</td>\n",
       "      <td>0</td>\n",
       "      <td>0.0</td>\n",
       "      <td>0.0</td>\n",
       "      <td>0.0</td>\n",
       "      <td>0</td>\n",
       "    </tr>\n",
       "  </tbody>\n",
       "</table>\n",
       "<p>5 rows × 55 columns</p>\n",
       "</div>"
      ],
      "text/plain": [
       "      ssobjectid  discoverysubmissiondate  firstobservationdate          arc  \\\n",
       "0   668135024989             60797.136495          60790.136495     0.000000   \n",
       "1  3033569589766             63480.233685          63473.233685     1.975244   \n",
       "2  3148445770109             59937.159828          59930.159828  2693.060000   \n",
       "3  3369984299447             60203.374981          60196.374981  2582.777000   \n",
       "4  3643818542061             59917.313961          59910.313961    46.793457   \n",
       "\n",
       "   numobs  moid  moidtrueanomaly  moideclipticlongitude  moiddeltav    uh  \\\n",
       "0       1   0.0              0.0                    0.0         0.0  None   \n",
       "1       3   0.0              0.0                    0.0         0.0  None   \n",
       "2       3   0.0              0.0                    0.0         0.0  None   \n",
       "3     107   0.0              0.0                    0.0         0.0  None   \n",
       "4      10   0.0              0.0                    0.0         0.0  None   \n",
       "\n",
       "   ...      yg12     yherr   yg12err yh_yg12_cov     ychi2  yndata  \\\n",
       "0  ...       NaN       NaN       NaN         NaN       NaN       0   \n",
       "1  ...       NaN       NaN       NaN         NaN       NaN       0   \n",
       "2  ...       NaN       NaN       NaN         NaN       NaN       0   \n",
       "3  ...  0.345189  0.087608  0.133565    0.010005  0.571543       7   \n",
       "4  ...       NaN       NaN       NaN         NaN       NaN       0   \n",
       "\n",
       "   maxextendedness  minextendedness  medianextendedness  flags  \n",
       "0              0.0              0.0                 0.0      0  \n",
       "1              0.0              0.0                 0.0      0  \n",
       "2              0.0              0.0                 0.0      0  \n",
       "3              0.0              0.0                 0.0      0  \n",
       "4              0.0              0.0                 0.0      0  \n",
       "\n",
       "[5 rows x 55 columns]"
      ]
     },
     "execution_count": 9,
     "metadata": {},
     "output_type": "execute_result"
    }
   ],
   "source": [
    "pd.read_sql(\"SELECT * FROM ssobjects LIMIT 5\", con)"
   ]
  },
  {
   "cell_type": "code",
   "execution_count": 10,
   "metadata": {
    "scrolled": true
   },
   "outputs": [
    {
     "data": {
      "text/html": [
       "<div>\n",
       "<style scoped>\n",
       "    .dataframe tbody tr th:only-of-type {\n",
       "        vertical-align: middle;\n",
       "    }\n",
       "\n",
       "    .dataframe tbody tr th {\n",
       "        vertical-align: top;\n",
       "    }\n",
       "\n",
       "    .dataframe thead th {\n",
       "        text-align: right;\n",
       "    }\n",
       "</style>\n",
       "<table border=\"1\" class=\"dataframe\">\n",
       "  <thead>\n",
       "    <tr style=\"text-align: right;\">\n",
       "      <th></th>\n",
       "      <th>mpcdesignation</th>\n",
       "      <th>mpcnumber</th>\n",
       "      <th>ssobjectid</th>\n",
       "      <th>mpch</th>\n",
       "      <th>mpcg</th>\n",
       "      <th>epoch</th>\n",
       "      <th>tperi</th>\n",
       "      <th>peri</th>\n",
       "      <th>node</th>\n",
       "      <th>incl</th>\n",
       "      <th>...</th>\n",
       "      <th>arc</th>\n",
       "      <th>arcstart</th>\n",
       "      <th>arcend</th>\n",
       "      <th>rms</th>\n",
       "      <th>pertsshort</th>\n",
       "      <th>pertslong</th>\n",
       "      <th>computer</th>\n",
       "      <th>flags</th>\n",
       "      <th>fulldesignation</th>\n",
       "      <th>lastincludedobservation</th>\n",
       "    </tr>\n",
       "  </thead>\n",
       "  <tbody>\n",
       "    <tr>\n",
       "      <th>0</th>\n",
       "      <td>SR000001a</td>\n",
       "      <td>0</td>\n",
       "      <td>-2658575675934308610</td>\n",
       "      <td>7.95</td>\n",
       "      <td>0.15</td>\n",
       "      <td>54800.0</td>\n",
       "      <td>52354.06796</td>\n",
       "      <td>47.02487</td>\n",
       "      <td>66.70177</td>\n",
       "      <td>0.0</td>\n",
       "      <td>...</td>\n",
       "      <td>0.0</td>\n",
       "      <td>0.0</td>\n",
       "      <td>0.0</td>\n",
       "      <td>0.0</td>\n",
       "      <td>None</td>\n",
       "      <td>None</td>\n",
       "      <td>None</td>\n",
       "      <td>0</td>\n",
       "      <td>None</td>\n",
       "      <td>0.0</td>\n",
       "    </tr>\n",
       "    <tr>\n",
       "      <th>1</th>\n",
       "      <td>SR000002a</td>\n",
       "      <td>0</td>\n",
       "      <td>1638696702905544284</td>\n",
       "      <td>11.90</td>\n",
       "      <td>0.15</td>\n",
       "      <td>54800.0</td>\n",
       "      <td>54255.95952</td>\n",
       "      <td>111.14332</td>\n",
       "      <td>149.76906</td>\n",
       "      <td>0.0</td>\n",
       "      <td>...</td>\n",
       "      <td>0.0</td>\n",
       "      <td>0.0</td>\n",
       "      <td>0.0</td>\n",
       "      <td>0.0</td>\n",
       "      <td>None</td>\n",
       "      <td>None</td>\n",
       "      <td>None</td>\n",
       "      <td>0</td>\n",
       "      <td>None</td>\n",
       "      <td>0.0</td>\n",
       "    </tr>\n",
       "    <tr>\n",
       "      <th>2</th>\n",
       "      <td>SR000003a</td>\n",
       "      <td>0</td>\n",
       "      <td>-6148727610239885338</td>\n",
       "      <td>7.58</td>\n",
       "      <td>0.15</td>\n",
       "      <td>54800.0</td>\n",
       "      <td>32718.27775</td>\n",
       "      <td>86.93460</td>\n",
       "      <td>157.72377</td>\n",
       "      <td>0.0</td>\n",
       "      <td>...</td>\n",
       "      <td>0.0</td>\n",
       "      <td>0.0</td>\n",
       "      <td>0.0</td>\n",
       "      <td>0.0</td>\n",
       "      <td>None</td>\n",
       "      <td>None</td>\n",
       "      <td>None</td>\n",
       "      <td>0</td>\n",
       "      <td>None</td>\n",
       "      <td>0.0</td>\n",
       "    </tr>\n",
       "    <tr>\n",
       "      <th>3</th>\n",
       "      <td>SR000004a</td>\n",
       "      <td>0</td>\n",
       "      <td>2476339031007217136</td>\n",
       "      <td>12.99</td>\n",
       "      <td>0.15</td>\n",
       "      <td>54800.0</td>\n",
       "      <td>49162.23730</td>\n",
       "      <td>357.05184</td>\n",
       "      <td>318.01916</td>\n",
       "      <td>0.0</td>\n",
       "      <td>...</td>\n",
       "      <td>0.0</td>\n",
       "      <td>0.0</td>\n",
       "      <td>0.0</td>\n",
       "      <td>0.0</td>\n",
       "      <td>None</td>\n",
       "      <td>None</td>\n",
       "      <td>None</td>\n",
       "      <td>0</td>\n",
       "      <td>None</td>\n",
       "      <td>0.0</td>\n",
       "    </tr>\n",
       "    <tr>\n",
       "      <th>4</th>\n",
       "      <td>SR000006a</td>\n",
       "      <td>0</td>\n",
       "      <td>-6439077407999146266</td>\n",
       "      <td>9.28</td>\n",
       "      <td>0.15</td>\n",
       "      <td>54800.0</td>\n",
       "      <td>-13278.77515</td>\n",
       "      <td>302.03901</td>\n",
       "      <td>292.49508</td>\n",
       "      <td>0.0</td>\n",
       "      <td>...</td>\n",
       "      <td>0.0</td>\n",
       "      <td>0.0</td>\n",
       "      <td>0.0</td>\n",
       "      <td>0.0</td>\n",
       "      <td>None</td>\n",
       "      <td>None</td>\n",
       "      <td>None</td>\n",
       "      <td>0</td>\n",
       "      <td>None</td>\n",
       "      <td>0.0</td>\n",
       "    </tr>\n",
       "  </tbody>\n",
       "</table>\n",
       "<p>5 rows × 27 columns</p>\n",
       "</div>"
      ],
      "text/plain": [
       "     mpcdesignation  mpcnumber           ssobjectid   mpch  mpcg    epoch  \\\n",
       "0  SR000001a                 0 -2658575675934308610   7.95  0.15  54800.0   \n",
       "1  SR000002a                 0  1638696702905544284  11.90  0.15  54800.0   \n",
       "2  SR000003a                 0 -6148727610239885338   7.58  0.15  54800.0   \n",
       "3  SR000004a                 0  2476339031007217136  12.99  0.15  54800.0   \n",
       "4  SR000006a                 0 -6439077407999146266   9.28  0.15  54800.0   \n",
       "\n",
       "         tperi       peri       node  incl  ...  arc  arcstart  arcend  rms  \\\n",
       "0  52354.06796   47.02487   66.70177   0.0  ...  0.0       0.0     0.0  0.0   \n",
       "1  54255.95952  111.14332  149.76906   0.0  ...  0.0       0.0     0.0  0.0   \n",
       "2  32718.27775   86.93460  157.72377   0.0  ...  0.0       0.0     0.0  0.0   \n",
       "3  49162.23730  357.05184  318.01916   0.0  ...  0.0       0.0     0.0  0.0   \n",
       "4 -13278.77515  302.03901  292.49508   0.0  ...  0.0       0.0     0.0  0.0   \n",
       "\n",
       "  pertsshort  pertslong  computer  flags  fulldesignation  \\\n",
       "0       None       None      None      0             None   \n",
       "1       None       None      None      0             None   \n",
       "2       None       None      None      0             None   \n",
       "3       None       None      None      0             None   \n",
       "4       None       None      None      0             None   \n",
       "\n",
       "   lastincludedobservation  \n",
       "0                      0.0  \n",
       "1                      0.0  \n",
       "2                      0.0  \n",
       "3                      0.0  \n",
       "4                      0.0  \n",
       "\n",
       "[5 rows x 27 columns]"
      ]
     },
     "execution_count": 10,
     "metadata": {},
     "output_type": "execute_result"
    }
   ],
   "source": [
    "pd.read_sql(\"SELECT * FROM mpcorb LIMIT 5\", con)"
   ]
  },
  {
   "cell_type": "markdown",
   "metadata": {},
   "source": [
    "### Plot a visit"
   ]
  },
  {
   "cell_type": "code",
   "execution_count": 11,
   "metadata": {},
   "outputs": [
    {
     "name": "stdout",
     "output_type": "stream",
     "text": [
      "CPU times: user 5.96 ms, sys: 2.46 ms, total: 8.42 ms\n",
      "Wall time: 45.4 ms\n"
     ]
    }
   ],
   "source": [
    "%%time\n",
    "sql = \"\"\"\n",
    "    SELECT\n",
    "        ssObjectId, ra, decl, ccdVisitId, midPointTai\n",
    "    FROM\n",
    "        diaSources\n",
    "    WHERE\n",
    "        ccdVisitId = 126272\n",
    "\"\"\"\n",
    "df = pd.read_sql(sql, con)"
   ]
  },
  {
   "cell_type": "code",
   "execution_count": 12,
   "metadata": {},
   "outputs": [
    {
     "data": {
      "text/plain": [
       "Text(0.5, 1.0, 'Visit 126272 (MJD 60043.17665)')"
      ]
     },
     "execution_count": 12,
     "metadata": {},
     "output_type": "execute_result"
    },
    {
     "data": {
      "image/png": "[encoded data removed]",
      "text/plain": [
       "<Figure size 720x720 with 1 Axes>"
      ]
     },
     "metadata": {
      "needs_background": "light"
     },
     "output_type": "display_data"
    }
   ],
   "source": [
    "plt.figure(figsize=(10, 10))\n",
    "plt.scatter(df[\"ra\"], df[\"decl\"], s=1)\n",
    "plt.gca().invert_xaxis()\n",
    "plt.xlabel(\"R.A. (deg)\")\n",
    "plt.ylabel(\"Dec (deg)\")\n",
    "plt.title(f\"Visit {df['ccdvisitid'].iloc[0]} (MJD {df['midpointtai'].iloc[0]:.5f})\")"
   ]
  },
  {
   "cell_type": "markdown",
   "metadata": {},
   "source": [
    "Now grab the same data in ecliptic coordinates:"
   ]
  },
  {
   "cell_type": "code",
   "execution_count": 13,
   "metadata": {},
   "outputs": [
    {
     "name": "stdout",
     "output_type": "stream",
     "text": [
      "CPU times: user 59 ms, sys: 6.12 ms, total: 65.1 ms\n",
      "Wall time: 25.3 s\n"
     ]
    }
   ],
   "source": [
    "%%time\n",
    "sql = \"\"\"\n",
    "    SELECT\n",
    "        eclipticLambda as lon, eclipticBeta as lat, ccdVisitId, midPointTAI\n",
    "    FROM\n",
    "        diaSources JOIN ssSources USING(diaSourceId)\n",
    "    WHERE\n",
    "        ccdVisitId = 126272\n",
    "\"\"\"\n",
    "df = pd.read_sql(sql, con)"
   ]
  },
  {
   "cell_type": "code",
   "execution_count": 14,
   "metadata": {},
   "outputs": [
    {
     "data": {
      "image/png": "[encoded data removed]",
      "text/plain": [
       "<Figure size 720x720 with 1 Axes>"
      ]
     },
     "metadata": {
      "needs_background": "light"
     },
     "output_type": "display_data"
    }
   ],
   "source": [
    "plt.figure(figsize=(10, 10))\n",
    "plt.scatter(df[\"lon\"], df[\"lat\"], s=1)\n",
    "plt.gca().invert_xaxis()\n",
    "plt.xlabel(r\"$\\lambda$ (deg)\")\n",
    "plt.ylabel(r\"$\\beta$ (deg)\")\n",
    "plt.title(f\"Visit {df['ccdvisitid'].iloc[0]} (MJD {df['midpointtai'].iloc[0]:.5f})\");"
   ]
  },
  {
   "cell_type": "markdown",
   "metadata": {},
   "source": [
    "### Plot a night"
   ]
  },
  {
   "cell_type": "code",
   "execution_count": 15,
   "metadata": {},
   "outputs": [
    {
     "name": "stdout",
     "output_type": "stream",
     "text": [
      "CPU times: user 836 ms, sys: 148 ms, total: 984 ms\n",
      "Wall time: 4.36 s\n"
     ]
    }
   ],
   "source": [
    "%%time\n",
    "sql = \"\"\"\n",
    "    SELECT\n",
    "        ssObjectId, ra, decl, ccdVisitId, midPointTai\n",
    "    FROM\n",
    "        diaSources\n",
    "    WHERE\n",
    "        midPointTai BETWEEN 60000-0.5 AND 60000+0.5\n",
    "\"\"\"\n",
    "df = pd.read_sql(sql, con)"
   ]
  },
  {
   "cell_type": "code",
   "execution_count": 16,
   "metadata": {},
   "outputs": [
    {
     "data": {
      "text/plain": [
       "Text(0.5, 1.0, 'Night MJD 60000')"
      ]
     },
     "execution_count": 16,
     "metadata": {},
     "output_type": "execute_result"
    },
    {
     "data": {
      "image/png": "[encoded data removed]",
      "text/plain": [
       "<Figure size 1008x504 with 1 Axes>"
      ]
     },
     "metadata": {
      "needs_background": "light"
     },
     "output_type": "display_data"
    }
   ],
   "source": [
    "plt.figure(figsize=(14, 7))\n",
    "plt.scatter(df[\"ra\"], df[\"decl\"], s=1)\n",
    "plt.gca().invert_xaxis()\n",
    "plt.xlabel(\"R.A. (deg)\")\n",
    "plt.ylabel(\"Dec (deg)\")\n",
    "plt.xlim(0, 360)\n",
    "plt.ylim(-90, 90)\n",
    "plt.title(f\"Night MJD 60000\")"
   ]
  },
  {
   "cell_type": "markdown",
   "metadata": {},
   "source": [
    "### First month of the survey"
   ]
  },
  {
   "cell_type": "code",
   "execution_count": 17,
   "metadata": {},
   "outputs": [
    {
     "data": {
      "text/plain": [
       "59853.98564424414"
      ]
     },
     "execution_count": 17,
     "metadata": {},
     "output_type": "execute_result"
    }
   ],
   "source": [
    "t0 = pd.read_sql(\"SELECT MIN(midPointTai) from diaSources\", con)[\"min\"].iloc[0]\n",
    "t0"
   ]
  },
  {
   "cell_type": "code",
   "execution_count": 18,
   "metadata": {},
   "outputs": [
    {
     "name": "stdout",
     "output_type": "stream",
     "text": [
      "CPU times: user 12.6 s, sys: 1.97 s, total: 14.6 s\n",
      "Wall time: 23.1 s\n"
     ]
    }
   ],
   "source": [
    "%%time\n",
    "sql = \"\"\"\n",
    "    SELECT\n",
    "        ra, decl\n",
    "    FROM\n",
    "        diaSources\n",
    "    WHERE\n",
    "        midPointTai BETWEEN %(start)s AND %(end)s\n",
    "\"\"\"\n",
    "df = pd.read_sql(sql, con, params=dict(start=t0, end=t0+30))"
   ]
  },
  {
   "cell_type": "code",
   "execution_count": 20,
   "metadata": {},
   "outputs": [
    {
     "data": {
      "image/png": "[encoded data removed]",
      "text/plain": [
       "<Figure size 1008x504 with 1 Axes>"
      ]
     },
     "metadata": {
      "needs_background": "light"
     },
     "output_type": "display_data"
    }
   ],
   "source": [
    "plt.figure(figsize=(14, 7))\n",
    "plt.scatter(df[\"ra\"], df[\"decl\"], s=.1)\n",
    "plt.gca().invert_xaxis()\n",
    "plt.xlabel(\"R.A. (deg)\")\n",
    "plt.ylabel(\"Dec (deg)\")\n",
    "plt.xlim(0, 360)\n",
    "plt.ylim(-90, 90)\n",
    "plt.title(f\"First month of the survey\");"
   ]
  },
  {
   "cell_type": "markdown",
   "metadata": {},
   "source": [
    "### Plot a phase curve"
   ]
  },
  {
   "cell_type": "code",
   "execution_count": 21,
   "metadata": {},
   "outputs": [
    {
     "data": {
      "text/html": [
       "<div>\n",
       "<style scoped>\n",
       "    .dataframe tbody tr th:only-of-type {\n",
       "        vertical-align: middle;\n",
       "    }\n",
       "\n",
       "    .dataframe tbody tr th {\n",
       "        vertical-align: top;\n",
       "    }\n",
       "\n",
       "    .dataframe thead th {\n",
       "        text-align: right;\n",
       "    }\n",
       "</style>\n",
       "<table border=\"1\" class=\"dataframe\">\n",
       "  <thead>\n",
       "    <tr style=\"text-align: right;\">\n",
       "      <th></th>\n",
       "      <th>mpcdesignation</th>\n",
       "      <th>ssobjectid</th>\n",
       "      <th>mag</th>\n",
       "      <th>magsigma</th>\n",
       "      <th>filter</th>\n",
       "      <th>mjd</th>\n",
       "      <th>ra</th>\n",
       "      <th>decl</th>\n",
       "      <th>phaseangle</th>\n",
       "      <th>topocentricdist</th>\n",
       "      <th>heliocentricdist</th>\n",
       "      <th>cmag</th>\n",
       "    </tr>\n",
       "  </thead>\n",
       "  <tbody>\n",
       "    <tr>\n",
       "      <th>0</th>\n",
       "      <td>S00001vAa</td>\n",
       "      <td>8050632269120433289</td>\n",
       "      <td>20.652550</td>\n",
       "      <td>0.013050</td>\n",
       "      <td>r</td>\n",
       "      <td>62352.235856</td>\n",
       "      <td>338.662138</td>\n",
       "      <td>-15.892054</td>\n",
       "      <td>14.838730</td>\n",
       "      <td>0.595123</td>\n",
       "      <td>1.578381</td>\n",
       "      <td>20.788458</td>\n",
       "    </tr>\n",
       "    <tr>\n",
       "      <th>1</th>\n",
       "      <td>S00001vAa</td>\n",
       "      <td>8050632269120433289</td>\n",
       "      <td>20.670551</td>\n",
       "      <td>0.016261</td>\n",
       "      <td>r</td>\n",
       "      <td>62352.244968</td>\n",
       "      <td>338.657501</td>\n",
       "      <td>-15.893365</td>\n",
       "      <td>14.830055</td>\n",
       "      <td>0.595161</td>\n",
       "      <td>1.578451</td>\n",
       "      <td>20.806224</td>\n",
       "    </tr>\n",
       "    <tr>\n",
       "      <th>2</th>\n",
       "      <td>S00001vAa</td>\n",
       "      <td>8050632269120433289</td>\n",
       "      <td>20.605118</td>\n",
       "      <td>0.010641</td>\n",
       "      <td>r</td>\n",
       "      <td>62360.313185</td>\n",
       "      <td>334.722045</td>\n",
       "      <td>-16.968608</td>\n",
       "      <td>7.679678</td>\n",
       "      <td>0.635753</td>\n",
       "      <td>1.639855</td>\n",
       "      <td>20.514649</td>\n",
       "    </tr>\n",
       "    <tr>\n",
       "      <th>3</th>\n",
       "      <td>S00001vAa</td>\n",
       "      <td>8050632269120433289</td>\n",
       "      <td>20.660650</td>\n",
       "      <td>0.018832</td>\n",
       "      <td>r</td>\n",
       "      <td>62251.421038</td>\n",
       "      <td>332.847465</td>\n",
       "      <td>-15.415406</td>\n",
       "      <td>96.779530</td>\n",
       "      <td>0.302469</td>\n",
       "      <td>0.924456</td>\n",
       "      <td>23.427812</td>\n",
       "    </tr>\n",
       "    <tr>\n",
       "      <th>4</th>\n",
       "      <td>S00001vAa</td>\n",
       "      <td>8050632269120433289</td>\n",
       "      <td>22.143944</td>\n",
       "      <td>0.040766</td>\n",
       "      <td>r</td>\n",
       "      <td>61286.975565</td>\n",
       "      <td>242.153201</td>\n",
       "      <td>-24.872374</td>\n",
       "      <td>51.970360</td>\n",
       "      <td>0.893512</td>\n",
       "      <td>1.272925</td>\n",
       "      <td>21.864428</td>\n",
       "    </tr>\n",
       "  </tbody>\n",
       "</table>\n",
       "</div>"
      ],
      "text/plain": [
       "     mpcdesignation           ssobjectid        mag  magsigma filter  \\\n",
       "0  S00001vAa         8050632269120433289  20.652550  0.013050      r   \n",
       "1  S00001vAa         8050632269120433289  20.670551  0.016261      r   \n",
       "2  S00001vAa         8050632269120433289  20.605118  0.010641      r   \n",
       "3  S00001vAa         8050632269120433289  20.660650  0.018832      r   \n",
       "4  S00001vAa         8050632269120433289  22.143944  0.040766      r   \n",
       "\n",
       "            mjd          ra       decl  phaseangle  topocentricdist  \\\n",
       "0  62352.235856  338.662138 -15.892054   14.838730         0.595123   \n",
       "1  62352.244968  338.657501 -15.893365   14.830055         0.595161   \n",
       "2  62360.313185  334.722045 -16.968608    7.679678         0.635753   \n",
       "3  62251.421038  332.847465 -15.415406   96.779530         0.302469   \n",
       "4  61286.975565  242.153201 -24.872374   51.970360         0.893512   \n",
       "\n",
       "   heliocentricdist       cmag  \n",
       "0          1.578381  20.788458  \n",
       "1          1.578451  20.806224  \n",
       "2          1.639855  20.514649  \n",
       "3          0.924456  23.427812  \n",
       "4          1.272925  21.864428  "
      ]
     },
     "execution_count": 21,
     "metadata": {},
     "output_type": "execute_result"
    }
   ],
   "source": [
    "sql = \"\"\"\n",
    "    SELECT\n",
    "        mpcdesignation, ssObjects.ssObjectId, mag, magSigma, filter, midPointTai as mjd, ra, decl, phaseAngle,\n",
    "        topocentricDist, heliocentricDist\n",
    "    FROM\n",
    "        mpcorb\n",
    "        JOIN ssObjects USING (ssobjectid)\n",
    "        JOIN diaSources USING (ssobjectid)\n",
    "        JOIN ssSources USING (diaSourceid)\n",
    "    WHERE\n",
    "        mpcdesignation = 'S00001vAa' and filter='r'\n",
    "\"\"\"\n",
    "df = pd.read_sql(sql, con)\n",
    "# Distance correction\n",
    "df[\"cmag\"] = df[\"mag\"] - 5*np.log10(df[\"topocentricdist\"]*df[\"heliocentricdist\"])\n",
    "df.head()"
   ]
  },
  {
   "cell_type": "markdown",
   "metadata": {},
   "source": [
    "Now make a plot:"
   ]
  },
  {
   "cell_type": "code",
   "execution_count": 22,
   "metadata": {},
   "outputs": [
    {
     "data": {
      "image/png": "[encoded data removed]",
      "text/plain": [
       "<Figure size 1008x432 with 1 Axes>"
      ]
     },
     "metadata": {
      "needs_background": "light"
     },
     "output_type": "display_data"
    }
   ],
   "source": [
    "plt.figure(figsize=(14, 6))\n",
    "plt.errorbar(df[\"phaseangle\"], df[\"cmag\"], df[\"magsigma\"], ls='none')\n",
    "plt.gca().invert_yaxis()\n",
    "plt.xlabel(\"Phase Angle (deg)\")\n",
    "plt.ylabel(\"Distance corrected mag_r (mag)\")\n",
    "plt.title(f'Phase curve for {df[\"mpcdesignation\"].iloc[0]}, r band');"
   ]
  },
  {
   "cell_type": "markdown",
   "metadata": {},
   "source": [
    "Now grab our (H, G) fit, and overplot it"
   ]
  },
  {
   "cell_type": "code",
   "execution_count": 23,
   "metadata": {},
   "outputs": [
    {
     "data": {
      "text/html": [
       "<div>\n",
       "<style scoped>\n",
       "    .dataframe tbody tr th:only-of-type {\n",
       "        vertical-align: middle;\n",
       "    }\n",
       "\n",
       "    .dataframe tbody tr th {\n",
       "        vertical-align: top;\n",
       "    }\n",
       "\n",
       "    .dataframe thead th {\n",
       "        text-align: right;\n",
       "    }\n",
       "</style>\n",
       "<table border=\"1\" class=\"dataframe\">\n",
       "  <thead>\n",
       "    <tr style=\"text-align: right;\">\n",
       "      <th></th>\n",
       "      <th>rh</th>\n",
       "      <th>rg12</th>\n",
       "      <th>rherr</th>\n",
       "      <th>rg12err</th>\n",
       "      <th>rchi2</th>\n",
       "    </tr>\n",
       "  </thead>\n",
       "  <tbody>\n",
       "    <tr>\n",
       "      <th>0</th>\n",
       "      <td>19.9568</td>\n",
       "      <td>0.150825</td>\n",
       "      <td>0.009669</td>\n",
       "      <td>0.004122</td>\n",
       "      <td>1.167215</td>\n",
       "    </tr>\n",
       "  </tbody>\n",
       "</table>\n",
       "</div>"
      ],
      "text/plain": [
       "        rh      rg12     rherr   rg12err     rchi2\n",
       "0  19.9568  0.150825  0.009669  0.004122  1.167215"
      ]
     },
     "execution_count": 23,
     "metadata": {},
     "output_type": "execute_result"
    }
   ],
   "source": [
    "ssoId = int(df[\"ssobjectid\"].iloc[0])\n",
    "hg = pd.read_sql(\"SELECT rH, rG12, rHErr, rG12Err, rChi2 FROM ssObjects WHERE ssObjectId=%(ssoId)s\", con, params=dict(ssoId=ssoId))\n",
    "hg"
   ]
  },
  {
   "cell_type": "code",
   "execution_count": 25,
   "metadata": {},
   "outputs": [
    {
     "name": "stdout",
     "output_type": "stream",
     "text": [
      "H=19.96±0.00967, G=0.15±0.00412, χ2/dof=1.167\n"
     ]
    },
    {
     "data": {
      "image/png": "[encoded data removed]",
      "text/plain": [
       "<Figure size 1008x432 with 1 Axes>"
      ]
     },
     "metadata": {
      "needs_background": "light"
     },
     "output_type": "display_data"
    }
   ],
   "source": [
    "plt.figure(figsize=(14, 6))\n",
    "plt.errorbar(df[\"phaseangle\"], df[\"cmag\"], df[\"magsigma\"], ls='none')\n",
    "plt.gca().invert_yaxis()\n",
    "plt.xlabel(\"Phase Angle (deg)\")\n",
    "plt.ylabel(\"Distance corrected mag_r (mag)\")\n",
    "plt.title(f'Phase curve for {df[\"mpcdesignation\"].iloc[0]}, r band')\n",
    "\n",
    "from sbpy.photometry import HG\n",
    "H, G, sigmaH, sigmaG, chi2dof = hg.iloc[0]\n",
    "_ph = sorted(df[\"phaseangle\"])\n",
    "_mag = HG.evaluate(np.deg2rad(_ph), H, G)\n",
    "plt.plot(_ph, _mag)\n",
    "print(f\"H={H:.2f}±{sigmaH:.3}, G={G:.2f}±{sigmaG:.3}, χ2/dof={chi2dof:.3f}\")"
   ]
  },
  {
   "cell_type": "markdown",
   "metadata": {},
   "source": [
    "### Look at the input population"
   ]
  },
  {
   "cell_type": "markdown",
   "metadata": {},
   "source": [
    "This is just S3M, so it should correspond to the plots from the Grav et al. 2011 paper."
   ]
  },
  {
   "cell_type": "code",
   "execution_count": 26,
   "metadata": {},
   "outputs": [
    {
     "data": {
      "text/plain": [
       "Text(0, 0.5, 'Objects in bin')"
      ]
     },
     "execution_count": 26,
     "metadata": {},
     "output_type": "execute_result"
    },
    {
     "data": {
      "image/png": "[encoded data removed]",
      "text/plain": [
       "<Figure size 720x360 with 1 Axes>"
      ]
     },
     "metadata": {
      "needs_background": "light"
     },
     "output_type": "display_data"
    }
   ],
   "source": [
    "sql = \"\"\"\n",
    "    SELECT\n",
    "        FLOOR(mpcH*10)/10 AS binH, count(*)\n",
    "    FROM\n",
    "        mpcorb\n",
    "    GROUP BY binH\n",
    "\"\"\"\n",
    "df = pd.read_sql(sql, con)\n",
    "plt.figure(figsize=(10, 5))\n",
    "plt.plot(df[\"binh\"], df[\"count\"])\n",
    "plt.xlabel(\"H (mag)\")\n",
    "plt.ylabel(\"Objects in bin\")"
   ]
  }
 ],
 "metadata": {
  "kernelspec": {
   "display_name": "Python 3 (2021)",
   "language": "python",
   "name": "python3-2021"
  },
  "language_info": {
   "codemirror_mode": {
    "name": "ipython",
    "version": 3
   },
   "file_extension": ".py",
   "mimetype": "text/x-python",
   "name": "python",
   "nbconvert_exporter": "python",
   "pygments_lexer": "ipython3",
   "version": "3.8.8"
  }
 },
 "nbformat": 4,
 "nbformat_minor": 2
}
