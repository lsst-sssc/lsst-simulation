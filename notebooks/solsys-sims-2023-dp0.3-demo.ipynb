{
 "cells": [
  {
   "cell_type": "markdown",
   "metadata": {},
   "source": [
    "# LSST Solar System Simulations, DP 0.3 (August 2023)"
   ]
  },
  {
   "cell_type": "markdown",
   "metadata": {},
   "source": [
    "Juric, Eggl, Jones, Fedorets, Cornwall, Berres, Chernyavskaya, Moeyens, Schwamb, et many many al.\n",
    "\n",
    "As well as Bob Abel, Douglas Tucker, and Melissa Graham."
   ]
  },
  {
   "cell_type": "markdown",
   "metadata": {},
   "source": [
    "This notebook illustrates what is available in the August 2023 version of the simulated LSST Solar System dataset (the DP0.3 dataset)."
   ]
  },
  {
   "cell_type": "markdown",
   "metadata": {},
   "source": [
    "## Getting this notebook"
   ]
  },
  {
   "cell_type": "markdown",
   "metadata": {},
   "source": [
    "This notebook is available from https://github.com/lsst-sssc/lsst-simulation. Open a terminal and clone it into your home directory to run it:\n",
    "```\n",
    "    git clone https://github.com/lsst-sssc/lsst-simulation\n",
    "```"
   ]
  },
  {
   "cell_type": "markdown",
   "metadata": {},
   "source": [
    "## Connect to the RSP database with DP0.3 products"
   ]
  },
  {
   "cell_type": "code",
   "execution_count": 1,
   "metadata": {
    "execution": {
     "iopub.execute_input": "2023-08-10T06:53:02.756136Z",
     "iopub.status.busy": "2023-08-10T06:53:02.755305Z",
     "iopub.status.idle": "2023-08-10T06:53:02.817702Z",
     "shell.execute_reply": "2023-08-10T06:53:02.817055Z",
     "shell.execute_reply.started": "2023-08-10T06:53:02.756103Z"
    },
    "tags": []
   },
   "outputs": [],
   "source": [
    "from lsst.rsp import get_tap_service, retrieve_query\n",
    "\n",
    "service = get_tap_service(\"ssotap\")"
   ]
  },
  {
   "cell_type": "markdown",
   "metadata": {},
   "source": [
    "Let's find out what \"schemas\" are available. These are (very roughly) equivalent to different data releases:"
   ]
  },
  {
   "cell_type": "code",
   "execution_count": 2,
   "metadata": {
    "execution": {
     "iopub.execute_input": "2023-08-10T06:53:06.606695Z",
     "iopub.status.busy": "2023-08-10T06:53:06.605822Z",
     "iopub.status.idle": "2023-08-10T06:53:06.734371Z",
     "shell.execute_reply": "2023-08-10T06:53:06.733786Z",
     "shell.execute_reply.started": "2023-08-10T06:53:06.606664Z"
    },
    "tags": []
   },
   "outputs": [
    {
     "data": {
      "text/html": [
       "<div><i>Table length=4</i>\n",
       "<table id=\"table139937982578496\" class=\"table-striped table-bordered table-condensed\">\n",
       "<thead><tr><th>description</th><th>schema_index</th><th>schema_name</th><th>utype</th></tr></thead>\n",
       "<thead><tr><th>str512</th><th>int32</th><th>str64</th><th>str512</th></tr></thead>\n",
       "<tr><td>Data Preview 0.3 contains the catalog products of a Solar System Science Collaboration simulation of the results of SSO analysis of the wide-fast-deep data from the LSST ten-year dataset.</td><td>0</td><td>dp03_catalogs_10yr</td><td></td></tr>\n",
       "<tr><td>Data Preview 0.3 contains the catalog products of a Solar System Science Collaboration simulation of the results of SSO analysis of the wide-fast-deep data. This set of tables is from analyzing only the first year of LSST observations.</td><td>1</td><td>dp03_catalogs_1yr</td><td></td></tr>\n",
       "<tr><td>A TAP-standard-mandated schema to describe tablesets in a TAP 1.1 service</td><td>100000</td><td>tap_schema</td><td></td></tr>\n",
       "<tr><td>UWS Metadata</td><td>120000</td><td>uws</td><td></td></tr>\n",
       "</table></div>"
      ],
      "text/plain": [
       "<Table length=4>\n",
       "                                                                                                                description                                                                                                                 ...\n",
       "                                                                                                                   str512                                                                                                                   ...\n",
       "------------------------------------------------------------------------------------------------------------------------------------------------------------------------------------------------------------------------------------------- ...\n",
       "                                                Data Preview 0.3 contains the catalog products of a Solar System Science Collaboration simulation of the results of SSO analysis of the wide-fast-deep data from the LSST ten-year dataset. ...\n",
       "Data Preview 0.3 contains the catalog products of a Solar System Science Collaboration simulation of the results of SSO analysis of the wide-fast-deep data. This set of tables is from analyzing only the first year of LSST observations. ...\n",
       "                                                                                                                                                                  A TAP-standard-mandated schema to describe tablesets in a TAP 1.1 service ...\n",
       "                                                                                                                                                                                                                               UWS Metadata ..."
      ]
     },
     "execution_count": 2,
     "metadata": {},
     "output_type": "execute_result"
    }
   ],
   "source": [
    "query = \"SELECT * FROM tap_schema.schemas\"\n",
    "results = service.search(query).to_table()\n",
    "results"
   ]
  },
  {
   "cell_type": "markdown",
   "metadata": {},
   "source": [
    "The two `dp03_catalogs_*` schemas are our data products. The first one is a simulation of the LSST catalog at the end of the 10yr survey, while the second one is what it will look like at the end of year 1.\n",
    "\n",
    "For this tutorial, let's focus on the 10yr catalog, and see which tables are available:"
   ]
  },
  {
   "cell_type": "code",
   "execution_count": 3,
   "metadata": {
    "execution": {
     "iopub.execute_input": "2023-08-10T06:53:30.444627Z",
     "iopub.status.busy": "2023-08-10T06:53:30.443737Z",
     "iopub.status.idle": "2023-08-10T06:53:30.538288Z",
     "shell.execute_reply": "2023-08-10T06:53:30.537475Z",
     "shell.execute_reply.started": "2023-08-10T06:53:30.444594Z"
    },
    "tags": []
   },
   "outputs": [
    {
     "data": {
      "text/html": [
       "<div><i>Table length=4</i>\n",
       "<table id=\"table139938869886544\" class=\"table-striped table-bordered table-condensed\">\n",
       "<thead><tr><th>table_name</th><th>description</th></tr></thead>\n",
       "<thead><tr><th>str64</th><th>str512</th></tr></thead>\n",
       "<tr><td>dp03_catalogs_10yr.DiaSource</td><td>Table to store &apos;difference image sources&apos;; - sources detected at SNR &gt;=5 on difference images.</td></tr>\n",
       "<tr><td>dp03_catalogs_10yr.MPCORB</td><td>The orbit catalog produced by the Minor Planet Center. Ingested daily. O(10M) rows by survey end. The columns are described at https://minorplanetcenter.net//iau/info/MPOrbitFormat.html</td></tr>\n",
       "<tr><td>dp03_catalogs_10yr.SSObject</td><td>LSST-computed per-object quantities. 1:1 relationship with MPCORB. Recomputed daily, upon MPCORB ingestion.</td></tr>\n",
       "<tr><td>dp03_catalogs_10yr.SSSource</td><td>LSST-computed per-source quantities. 1:1 relationship with DIASource. Recomputed daily, upon MPCORB ingestion.</td></tr>\n",
       "</table></div>"
      ],
      "text/plain": [
       "<Table length=4>\n",
       "         table_name          ...\n",
       "           str64             ...\n",
       "---------------------------- ...\n",
       "dp03_catalogs_10yr.DiaSource ...\n",
       "   dp03_catalogs_10yr.MPCORB ...\n",
       " dp03_catalogs_10yr.SSObject ...\n",
       " dp03_catalogs_10yr.SSSource ..."
      ]
     },
     "execution_count": 3,
     "metadata": {},
     "output_type": "execute_result"
    }
   ],
   "source": [
    "query = \"\"\"\n",
    "    SELECT\n",
    "        table_name, description\n",
    "    FROM\n",
    "        tap_schema.tables \n",
    "    WHERE\n",
    "        tap_schema.tables.schema_name = 'dp03_catalogs_10yr'\n",
    "    ORDER BY\n",
    "        table_index ASC\n",
    "\"\"\"\n",
    "results = service.search(query).to_table()\n",
    "results"
   ]
  },
  {
   "cell_type": "markdown",
   "metadata": {},
   "source": [
    "There are four tables for the 1-year and 10-year simulation: \n",
    "`MPCORB`, `SSObject`, `SSSource`, and `DiaSource`.\n",
    "\n",
    "Find descriptions of the tables and their schema, plus\n",
    "information and advice about accessing and querying the DP0.3 tables\n",
    "(including which columns are <a href=\"https://dp0-3.lsst.io/data-products-dp0-3/table-access-and-queries.html#unpopulated-columns\">currently unpopulated</a>),\n",
    "in the <a href=\"https://dp0-3.lsst.io/data-products-dp0-3/index.html#dp0-3-data-products-definition-document-dpdd\">DP0.3 data products definitions documentation </a>."
   ]
  },
  {
   "cell_type": "markdown",
   "metadata": {},
   "source": [
    "Let's run a simple query to demonstrate that the service works:"
   ]
  },
  {
   "cell_type": "code",
   "execution_count": 4,
   "metadata": {
    "execution": {
     "iopub.execute_input": "2023-08-10T06:53:48.427200Z",
     "iopub.status.busy": "2023-08-10T06:53:48.426208Z",
     "iopub.status.idle": "2023-08-10T06:53:49.772560Z",
     "shell.execute_reply": "2023-08-10T06:53:49.771958Z",
     "shell.execute_reply.started": "2023-08-10T06:53:48.427158Z"
    },
    "tags": []
   },
   "outputs": [
    {
     "data": {
      "text/html": [
       "<div>\n",
       "<style scoped>\n",
       "    .dataframe tbody tr th:only-of-type {\n",
       "        vertical-align: middle;\n",
       "    }\n",
       "\n",
       "    .dataframe tbody tr th {\n",
       "        vertical-align: top;\n",
       "    }\n",
       "\n",
       "    .dataframe thead th {\n",
       "        text-align: right;\n",
       "    }\n",
       "</style>\n",
       "<table border=\"1\" class=\"dataframe\">\n",
       "  <thead>\n",
       "    <tr style=\"text-align: right;\">\n",
       "      <th></th>\n",
       "      <th>COUNT</th>\n",
       "    </tr>\n",
       "  </thead>\n",
       "  <tbody>\n",
       "    <tr>\n",
       "      <th>0</th>\n",
       "      <td>4443479</td>\n",
       "    </tr>\n",
       "  </tbody>\n",
       "</table>\n",
       "</div>"
      ],
      "text/plain": [
       "     COUNT\n",
       "0  4443479"
      ]
     },
     "execution_count": 4,
     "metadata": {},
     "output_type": "execute_result"
    }
   ],
   "source": [
    "results = service.search(\"SELECT COUNT(*) from dp03_catalogs_10yr.SSObject\")\n",
    "results.to_table().to_pandas()"
   ]
  },
  {
   "cell_type": "code",
   "execution_count": 13,
   "metadata": {
    "execution": {
     "iopub.execute_input": "2023-08-10T07:01:36.547327Z",
     "iopub.status.busy": "2023-08-10T07:01:36.546376Z",
     "iopub.status.idle": "2023-08-10T07:01:49.760119Z",
     "shell.execute_reply": "2023-08-10T07:01:49.759476Z",
     "shell.execute_reply.started": "2023-08-10T07:01:36.547294Z"
    },
    "tags": []
   },
   "outputs": [
    {
     "data": {
      "text/html": [
       "<div>\n",
       "<style scoped>\n",
       "    .dataframe tbody tr th:only-of-type {\n",
       "        vertical-align: middle;\n",
       "    }\n",
       "\n",
       "    .dataframe tbody tr th {\n",
       "        vertical-align: top;\n",
       "    }\n",
       "\n",
       "    .dataframe thead th {\n",
       "        text-align: right;\n",
       "    }\n",
       "</style>\n",
       "<table border=\"1\" class=\"dataframe\">\n",
       "  <thead>\n",
       "    <tr style=\"text-align: right;\">\n",
       "      <th></th>\n",
       "      <th>COUNT</th>\n",
       "    </tr>\n",
       "  </thead>\n",
       "  <tbody>\n",
       "    <tr>\n",
       "      <th>0</th>\n",
       "      <td>653005444</td>\n",
       "    </tr>\n",
       "  </tbody>\n",
       "</table>\n",
       "</div>"
      ],
      "text/plain": [
       "       COUNT\n",
       "0  653005444"
      ]
     },
     "execution_count": 13,
     "metadata": {},
     "output_type": "execute_result"
    }
   ],
   "source": [
    "results = service.search(\"SELECT COUNT(*) from dp03_catalogs_10yr.SSSource\")\n",
    "results.to_table().to_pandas()"
   ]
  },
  {
   "cell_type": "markdown",
   "metadata": {},
   "source": [
    "You'll notice lots of boilerplate in the calls above (e.g., `result.to_table()` calls, etc.). I like to wrap all these into one simple function that I'll call `query`. I also prefer to work with Pandas dataframes, so I'll add a `.to_pandas()` to the call.\n",
    "\n",
    "The function is as follows:"
   ]
  },
  {
   "cell_type": "code",
   "execution_count": 5,
   "metadata": {
    "execution": {
     "iopub.execute_input": "2023-08-10T06:56:07.240524Z",
     "iopub.status.busy": "2023-08-10T06:56:07.239550Z",
     "iopub.status.idle": "2023-08-10T06:56:07.244089Z",
     "shell.execute_reply": "2023-08-10T06:56:07.243423Z",
     "shell.execute_reply.started": "2023-08-10T06:56:07.240491Z"
    },
    "tags": []
   },
   "outputs": [],
   "source": [
    "def query(adql, con=None):\n",
    "    if con is None:\n",
    "        con = service # assumes there's a global variable named 'service'\n",
    "    return con.search(adql).to_table().to_pandas()"
   ]
  },
  {
   "cell_type": "markdown",
   "metadata": {
    "tags": []
   },
   "source": [
    "## Connecting and inspecting other available tables"
   ]
  },
  {
   "cell_type": "markdown",
   "metadata": {},
   "source": [
    "Let's get a feel for the available data, by grabbing the top 5 rows of each table:"
   ]
  },
  {
   "cell_type": "code",
   "execution_count": 7,
   "metadata": {
    "execution": {
     "iopub.execute_input": "2023-08-10T06:56:53.615888Z",
     "iopub.status.busy": "2023-08-10T06:56:53.615064Z",
     "iopub.status.idle": "2023-08-10T06:56:53.618953Z",
     "shell.execute_reply": "2023-08-10T06:56:53.618309Z",
     "shell.execute_reply.started": "2023-08-10T06:56:53.615859Z"
    },
    "tags": []
   },
   "outputs": [],
   "source": [
    "import pandas as pd\n",
    "pd.set_option('display.max_columns', None)"
   ]
  },
  {
   "cell_type": "code",
   "execution_count": 8,
   "metadata": {
    "execution": {
     "iopub.execute_input": "2023-08-10T06:56:54.759818Z",
     "iopub.status.busy": "2023-08-10T06:56:54.759126Z",
     "iopub.status.idle": "2023-08-10T06:56:55.564206Z",
     "shell.execute_reply": "2023-08-10T06:56:55.563566Z",
     "shell.execute_reply.started": "2023-08-10T06:56:54.759780Z"
    },
    "tags": []
   },
   "outputs": [
    {
     "data": {
      "text/html": [
       "<div>\n",
       "<style scoped>\n",
       "    .dataframe tbody tr th:only-of-type {\n",
       "        vertical-align: middle;\n",
       "    }\n",
       "\n",
       "    .dataframe tbody tr th {\n",
       "        vertical-align: top;\n",
       "    }\n",
       "\n",
       "    .dataframe thead th {\n",
       "        text-align: right;\n",
       "    }\n",
       "</style>\n",
       "<table border=\"1\" class=\"dataframe\">\n",
       "  <thead>\n",
       "    <tr style=\"text-align: right;\">\n",
       "      <th></th>\n",
       "      <th>band</th>\n",
       "      <th>ccdVisitId</th>\n",
       "      <th>dec</th>\n",
       "      <th>decErr</th>\n",
       "      <th>decTrue</th>\n",
       "      <th>diaObjectId</th>\n",
       "      <th>diaSourceId</th>\n",
       "      <th>mag</th>\n",
       "      <th>magErr</th>\n",
       "      <th>magTrueVband</th>\n",
       "      <th>midPointMjdTai</th>\n",
       "      <th>nameTrue</th>\n",
       "      <th>ra</th>\n",
       "      <th>ra_dec_Cov</th>\n",
       "      <th>raErr</th>\n",
       "      <th>raTrue</th>\n",
       "      <th>snr</th>\n",
       "      <th>ssObjectId</th>\n",
       "      <th>ssObjectReassocTime</th>\n",
       "    </tr>\n",
       "  </thead>\n",
       "  <tbody>\n",
       "    <tr>\n",
       "      <th>0</th>\n",
       "      <td>r</td>\n",
       "      <td>1773083</td>\n",
       "      <td>-25.148514</td>\n",
       "      <td>0.000004</td>\n",
       "      <td>-25.148505</td>\n",
       "      <td>-5963089413928587009</td>\n",
       "      <td>7233165413851974877</td>\n",
       "      <td>21.775999</td>\n",
       "      <td>0.035</td>\n",
       "      <td>21.717686</td>\n",
       "      <td>63325.40325</td>\n",
       "      <td>S100221va</td>\n",
       "      <td>219.328909</td>\n",
       "      <td>0.0</td>\n",
       "      <td>0.000004</td>\n",
       "      <td>219.328911</td>\n",
       "      <td>26.315258</td>\n",
       "      <td>8511195752057871498</td>\n",
       "      <td>63325.40325</td>\n",
       "    </tr>\n",
       "    <tr>\n",
       "      <th>1</th>\n",
       "      <td>i</td>\n",
       "      <td>152220</td>\n",
       "      <td>-30.001494</td>\n",
       "      <td>0.000003</td>\n",
       "      <td>-30.001498</td>\n",
       "      <td>-4359078707205250455</td>\n",
       "      <td>7296054571907235670</td>\n",
       "      <td>21.363001</td>\n",
       "      <td>0.024</td>\n",
       "      <td>21.526724</td>\n",
       "      <td>60433.33447</td>\n",
       "      <td>S100221va</td>\n",
       "      <td>245.375915</td>\n",
       "      <td>0.0</td>\n",
       "      <td>0.000003</td>\n",
       "      <td>245.375914</td>\n",
       "      <td>38.376419</td>\n",
       "      <td>8511195752057871498</td>\n",
       "      <td>60433.33447</td>\n",
       "    </tr>\n",
       "    <tr>\n",
       "      <th>2</th>\n",
       "      <td>z</td>\n",
       "      <td>958378</td>\n",
       "      <td>-28.219671</td>\n",
       "      <td>0.000005</td>\n",
       "      <td>-28.219671</td>\n",
       "      <td>-3431848165520931762</td>\n",
       "      <td>7573713288484829773</td>\n",
       "      <td>21.721001</td>\n",
       "      <td>0.070</td>\n",
       "      <td>21.859314</td>\n",
       "      <td>61869.22287</td>\n",
       "      <td>S100221va</td>\n",
       "      <td>233.416314</td>\n",
       "      <td>0.0</td>\n",
       "      <td>0.000005</td>\n",
       "      <td>233.416307</td>\n",
       "      <td>13.157629</td>\n",
       "      <td>8511195752057871498</td>\n",
       "      <td>61869.22287</td>\n",
       "    </tr>\n",
       "    <tr>\n",
       "      <th>3</th>\n",
       "      <td>i</td>\n",
       "      <td>393343</td>\n",
       "      <td>13.582624</td>\n",
       "      <td>0.000004</td>\n",
       "      <td>13.582626</td>\n",
       "      <td>-4622457964800077411</td>\n",
       "      <td>7700343048688117905</td>\n",
       "      <td>21.676001</td>\n",
       "      <td>0.047</td>\n",
       "      <td>21.878004</td>\n",
       "      <td>60930.23219</td>\n",
       "      <td>S100221va</td>\n",
       "      <td>10.086243</td>\n",
       "      <td>0.0</td>\n",
       "      <td>0.000004</td>\n",
       "      <td>10.086238</td>\n",
       "      <td>19.596468</td>\n",
       "      <td>8511195752057871498</td>\n",
       "      <td>60930.23219</td>\n",
       "    </tr>\n",
       "    <tr>\n",
       "      <th>4</th>\n",
       "      <td>z</td>\n",
       "      <td>1238522</td>\n",
       "      <td>7.048425</td>\n",
       "      <td>0.000014</td>\n",
       "      <td>7.048462</td>\n",
       "      <td>4570059734408245107</td>\n",
       "      <td>7794214902204121276</td>\n",
       "      <td>21.284000</td>\n",
       "      <td>0.102</td>\n",
       "      <td>21.518772</td>\n",
       "      <td>62407.29380</td>\n",
       "      <td>S100221va</td>\n",
       "      <td>354.922215</td>\n",
       "      <td>0.0</td>\n",
       "      <td>0.000014</td>\n",
       "      <td>354.922211</td>\n",
       "      <td>9.029745</td>\n",
       "      <td>8511195752057871498</td>\n",
       "      <td>62407.2938</td>\n",
       "    </tr>\n",
       "  </tbody>\n",
       "</table>\n",
       "</div>"
      ],
      "text/plain": [
       "  band  ccdVisitId        dec    decErr    decTrue          diaObjectId   \n",
       "0    r     1773083 -25.148514  0.000004 -25.148505 -5963089413928587009  \\\n",
       "1    i      152220 -30.001494  0.000003 -30.001498 -4359078707205250455   \n",
       "2    z      958378 -28.219671  0.000005 -28.219671 -3431848165520931762   \n",
       "3    i      393343  13.582624  0.000004  13.582626 -4622457964800077411   \n",
       "4    z     1238522   7.048425  0.000014   7.048462  4570059734408245107   \n",
       "\n",
       "           diaSourceId        mag  magErr  magTrueVband  midPointMjdTai   \n",
       "0  7233165413851974877  21.775999   0.035     21.717686     63325.40325  \\\n",
       "1  7296054571907235670  21.363001   0.024     21.526724     60433.33447   \n",
       "2  7573713288484829773  21.721001   0.070     21.859314     61869.22287   \n",
       "3  7700343048688117905  21.676001   0.047     21.878004     60930.23219   \n",
       "4  7794214902204121276  21.284000   0.102     21.518772     62407.29380   \n",
       "\n",
       "    nameTrue          ra  ra_dec_Cov     raErr      raTrue        snr   \n",
       "0  S100221va  219.328909         0.0  0.000004  219.328911  26.315258  \\\n",
       "1  S100221va  245.375915         0.0  0.000003  245.375914  38.376419   \n",
       "2  S100221va  233.416314         0.0  0.000005  233.416307  13.157629   \n",
       "3  S100221va   10.086243         0.0  0.000004   10.086238  19.596468   \n",
       "4  S100221va  354.922215         0.0  0.000014  354.922211   9.029745   \n",
       "\n",
       "            ssObjectId ssObjectReassocTime  \n",
       "0  8511195752057871498         63325.40325  \n",
       "1  8511195752057871498         60433.33447  \n",
       "2  8511195752057871498         61869.22287  \n",
       "3  8511195752057871498         60930.23219  \n",
       "4  8511195752057871498          62407.2938  "
      ]
     },
     "execution_count": 8,
     "metadata": {},
     "output_type": "execute_result"
    }
   ],
   "source": [
    "query(\"SELECT * FROM dp03_catalogs_10yr.DiaSource LIMIT 5\")"
   ]
  },
  {
   "cell_type": "code",
   "execution_count": 9,
   "metadata": {
    "execution": {
     "iopub.execute_input": "2023-08-10T06:56:59.745544Z",
     "iopub.status.busy": "2023-08-10T06:56:59.744712Z",
     "iopub.status.idle": "2023-08-10T06:56:59.984895Z",
     "shell.execute_reply": "2023-08-10T06:56:59.984300Z",
     "shell.execute_reply.started": "2023-08-10T06:56:59.745513Z"
    },
    "scrolled": true,
    "tags": []
   },
   "outputs": [
    {
     "data": {
      "text/html": [
       "<div>\n",
       "<style scoped>\n",
       "    .dataframe tbody tr th:only-of-type {\n",
       "        vertical-align: middle;\n",
       "    }\n",
       "\n",
       "    .dataframe tbody tr th {\n",
       "        vertical-align: top;\n",
       "    }\n",
       "\n",
       "    .dataframe thead th {\n",
       "        text-align: right;\n",
       "    }\n",
       "</style>\n",
       "<table border=\"1\" class=\"dataframe\">\n",
       "  <thead>\n",
       "    <tr style=\"text-align: right;\">\n",
       "      <th></th>\n",
       "      <th>diaSourceId</th>\n",
       "      <th>eclipticBeta</th>\n",
       "      <th>eclipticLambda</th>\n",
       "      <th>galacticB</th>\n",
       "      <th>galacticL</th>\n",
       "      <th>heliocentricDist</th>\n",
       "      <th>heliocentricVX</th>\n",
       "      <th>heliocentricVY</th>\n",
       "      <th>heliocentricVZ</th>\n",
       "      <th>heliocentricX</th>\n",
       "      <th>heliocentricY</th>\n",
       "      <th>heliocentricZ</th>\n",
       "      <th>mpcUniqueId</th>\n",
       "      <th>phaseAngle</th>\n",
       "      <th>predictedDecErr</th>\n",
       "      <th>predictedMagnitude</th>\n",
       "      <th>predictedMagnitudeErr</th>\n",
       "      <th>predictedRaDecCov</th>\n",
       "      <th>predictedRaErr</th>\n",
       "      <th>residualDec</th>\n",
       "      <th>residualRa</th>\n",
       "      <th>ssObjectId</th>\n",
       "      <th>topocentricDist</th>\n",
       "      <th>topocentricVX</th>\n",
       "      <th>topocentricVY</th>\n",
       "      <th>topocentricVZ</th>\n",
       "      <th>topocentricX</th>\n",
       "      <th>topocentricY</th>\n",
       "      <th>topocentricZ</th>\n",
       "    </tr>\n",
       "  </thead>\n",
       "  <tbody>\n",
       "    <tr>\n",
       "      <th>0</th>\n",
       "      <td>7704797027111923314</td>\n",
       "      <td>-7.363288</td>\n",
       "      <td>259.577541</td>\n",
       "      <td>5.295874</td>\n",
       "      <td>354.762142</td>\n",
       "      <td>3.099653</td>\n",
       "      <td>0.008660</td>\n",
       "      <td>-0.004613</td>\n",
       "      <td>-0.001038</td>\n",
       "      <td>-1.397213</td>\n",
       "      <td>-2.394500</td>\n",
       "      <td>-1.386367</td>\n",
       "      <td>0</td>\n",
       "      <td>16.476927</td>\n",
       "      <td>NaN</td>\n",
       "      <td>NaN</td>\n",
       "      <td>NaN</td>\n",
       "      <td>NaN</td>\n",
       "      <td>NaN</td>\n",
       "      <td>NaN</td>\n",
       "      <td>NaN</td>\n",
       "      <td>3099251536154607</td>\n",
       "      <td>2.493116</td>\n",
       "      <td>0.003264</td>\n",
       "      <td>0.010392</td>\n",
       "      <td>0.005479</td>\n",
       "      <td>-0.447297</td>\n",
       "      <td>-2.104000</td>\n",
       "      <td>-1.260451</td>\n",
       "    </tr>\n",
       "    <tr>\n",
       "      <th>1</th>\n",
       "      <td>7862835540864346063</td>\n",
       "      <td>-10.858374</td>\n",
       "      <td>222.376285</td>\n",
       "      <td>32.417035</td>\n",
       "      <td>327.991183</td>\n",
       "      <td>3.089192</td>\n",
       "      <td>0.006681</td>\n",
       "      <td>-0.006883</td>\n",
       "      <td>-0.002447</td>\n",
       "      <td>-2.230145</td>\n",
       "      <td>-1.770746</td>\n",
       "      <td>-1.197504</td>\n",
       "      <td>0</td>\n",
       "      <td>3.638725</td>\n",
       "      <td>NaN</td>\n",
       "      <td>NaN</td>\n",
       "      <td>NaN</td>\n",
       "      <td>NaN</td>\n",
       "      <td>NaN</td>\n",
       "      <td>NaN</td>\n",
       "      <td>NaN</td>\n",
       "      <td>3099251536154607</td>\n",
       "      <td>2.093446</td>\n",
       "      <td>-0.005465</td>\n",
       "      <td>0.004380</td>\n",
       "      <td>0.002406</td>\n",
       "      <td>-1.518811</td>\n",
       "      <td>-1.114497</td>\n",
       "      <td>-0.913030</td>\n",
       "    </tr>\n",
       "    <tr>\n",
       "      <th>2</th>\n",
       "      <td>7877011484513595521</td>\n",
       "      <td>9.620049</td>\n",
       "      <td>345.710213</td>\n",
       "      <td>-48.230500</td>\n",
       "      <td>74.920681</td>\n",
       "      <td>3.246733</td>\n",
       "      <td>0.000531</td>\n",
       "      <td>0.008394</td>\n",
       "      <td>0.004236</td>\n",
       "      <td>3.217072</td>\n",
       "      <td>-0.314052</td>\n",
       "      <td>0.305121</td>\n",
       "      <td>0</td>\n",
       "      <td>11.466073</td>\n",
       "      <td>NaN</td>\n",
       "      <td>NaN</td>\n",
       "      <td>NaN</td>\n",
       "      <td>NaN</td>\n",
       "      <td>NaN</td>\n",
       "      <td>NaN</td>\n",
       "      <td>NaN</td>\n",
       "      <td>3099251536154607</td>\n",
       "      <td>2.422965</td>\n",
       "      <td>0.008085</td>\n",
       "      <td>-0.006070</td>\n",
       "      <td>-0.001935</td>\n",
       "      <td>2.314979</td>\n",
       "      <td>-0.702050</td>\n",
       "      <td>0.136952</td>\n",
       "    </tr>\n",
       "    <tr>\n",
       "      <th>3</th>\n",
       "      <td>8024534361987717455</td>\n",
       "      <td>-8.164854</td>\n",
       "      <td>216.712205</td>\n",
       "      <td>38.178600</td>\n",
       "      <td>325.178518</td>\n",
       "      <td>3.094557</td>\n",
       "      <td>0.007872</td>\n",
       "      <td>-0.005727</td>\n",
       "      <td>-0.001704</td>\n",
       "      <td>-1.800846</td>\n",
       "      <td>-2.142675</td>\n",
       "      <td>-1.319917</td>\n",
       "      <td>0</td>\n",
       "      <td>17.340574</td>\n",
       "      <td>NaN</td>\n",
       "      <td>NaN</td>\n",
       "      <td>NaN</td>\n",
       "      <td>NaN</td>\n",
       "      <td>NaN</td>\n",
       "      <td>NaN</td>\n",
       "      <td>NaN</td>\n",
       "      <td>3099251536154607</td>\n",
       "      <td>2.526007</td>\n",
       "      <td>-0.008927</td>\n",
       "      <td>-0.008743</td>\n",
       "      <td>-0.003049</td>\n",
       "      <td>-2.004443</td>\n",
       "      <td>-1.228686</td>\n",
       "      <td>-0.923714</td>\n",
       "    </tr>\n",
       "    <tr>\n",
       "      <th>4</th>\n",
       "      <td>8044659189951738209</td>\n",
       "      <td>-6.523762</td>\n",
       "      <td>252.342320</td>\n",
       "      <td>11.849034</td>\n",
       "      <td>351.669282</td>\n",
       "      <td>3.094291</td>\n",
       "      <td>0.007876</td>\n",
       "      <td>-0.005724</td>\n",
       "      <td>-0.001701</td>\n",
       "      <td>-1.803631</td>\n",
       "      <td>-2.140466</td>\n",
       "      <td>-1.319075</td>\n",
       "      <td>0</td>\n",
       "      <td>18.154686</td>\n",
       "      <td>NaN</td>\n",
       "      <td>NaN</td>\n",
       "      <td>NaN</td>\n",
       "      <td>NaN</td>\n",
       "      <td>NaN</td>\n",
       "      <td>NaN</td>\n",
       "      <td>NaN</td>\n",
       "      <td>3099251536154607</td>\n",
       "      <td>3.157652</td>\n",
       "      <td>0.016765</td>\n",
       "      <td>0.008141</td>\n",
       "      <td>0.004222</td>\n",
       "      <td>-0.951606</td>\n",
       "      <td>-2.600014</td>\n",
       "      <td>-1.518268</td>\n",
       "    </tr>\n",
       "  </tbody>\n",
       "</table>\n",
       "</div>"
      ],
      "text/plain": [
       "           diaSourceId  eclipticBeta  eclipticLambda  galacticB   galacticL   \n",
       "0  7704797027111923314     -7.363288      259.577541   5.295874  354.762142  \\\n",
       "1  7862835540864346063    -10.858374      222.376285  32.417035  327.991183   \n",
       "2  7877011484513595521      9.620049      345.710213 -48.230500   74.920681   \n",
       "3  8024534361987717455     -8.164854      216.712205  38.178600  325.178518   \n",
       "4  8044659189951738209     -6.523762      252.342320  11.849034  351.669282   \n",
       "\n",
       "   heliocentricDist  heliocentricVX  heliocentricVY  heliocentricVZ   \n",
       "0          3.099653        0.008660       -0.004613       -0.001038  \\\n",
       "1          3.089192        0.006681       -0.006883       -0.002447   \n",
       "2          3.246733        0.000531        0.008394        0.004236   \n",
       "3          3.094557        0.007872       -0.005727       -0.001704   \n",
       "4          3.094291        0.007876       -0.005724       -0.001701   \n",
       "\n",
       "   heliocentricX  heliocentricY  heliocentricZ  mpcUniqueId  phaseAngle   \n",
       "0      -1.397213      -2.394500      -1.386367            0   16.476927  \\\n",
       "1      -2.230145      -1.770746      -1.197504            0    3.638725   \n",
       "2       3.217072      -0.314052       0.305121            0   11.466073   \n",
       "3      -1.800846      -2.142675      -1.319917            0   17.340574   \n",
       "4      -1.803631      -2.140466      -1.319075            0   18.154686   \n",
       "\n",
       "   predictedDecErr  predictedMagnitude  predictedMagnitudeErr   \n",
       "0              NaN                 NaN                    NaN  \\\n",
       "1              NaN                 NaN                    NaN   \n",
       "2              NaN                 NaN                    NaN   \n",
       "3              NaN                 NaN                    NaN   \n",
       "4              NaN                 NaN                    NaN   \n",
       "\n",
       "   predictedRaDecCov  predictedRaErr  residualDec  residualRa   \n",
       "0                NaN             NaN          NaN         NaN  \\\n",
       "1                NaN             NaN          NaN         NaN   \n",
       "2                NaN             NaN          NaN         NaN   \n",
       "3                NaN             NaN          NaN         NaN   \n",
       "4                NaN             NaN          NaN         NaN   \n",
       "\n",
       "         ssObjectId  topocentricDist  topocentricVX  topocentricVY   \n",
       "0  3099251536154607         2.493116       0.003264       0.010392  \\\n",
       "1  3099251536154607         2.093446      -0.005465       0.004380   \n",
       "2  3099251536154607         2.422965       0.008085      -0.006070   \n",
       "3  3099251536154607         2.526007      -0.008927      -0.008743   \n",
       "4  3099251536154607         3.157652       0.016765       0.008141   \n",
       "\n",
       "   topocentricVZ  topocentricX  topocentricY  topocentricZ  \n",
       "0       0.005479     -0.447297     -2.104000     -1.260451  \n",
       "1       0.002406     -1.518811     -1.114497     -0.913030  \n",
       "2      -0.001935      2.314979     -0.702050      0.136952  \n",
       "3      -0.003049     -2.004443     -1.228686     -0.923714  \n",
       "4       0.004222     -0.951606     -2.600014     -1.518268  "
      ]
     },
     "execution_count": 9,
     "metadata": {},
     "output_type": "execute_result"
    }
   ],
   "source": [
    "query(\"SELECT * FROM dp03_catalogs_10yr.SSSource LIMIT 5\")"
   ]
  },
  {
   "cell_type": "code",
   "execution_count": 10,
   "metadata": {
    "execution": {
     "iopub.execute_input": "2023-08-10T06:57:07.203324Z",
     "iopub.status.busy": "2023-08-10T06:57:07.202530Z",
     "iopub.status.idle": "2023-08-10T06:57:07.499063Z",
     "shell.execute_reply": "2023-08-10T06:57:07.498356Z",
     "shell.execute_reply.started": "2023-08-10T06:57:07.203293Z"
    },
    "scrolled": true,
    "tags": []
   },
   "outputs": [
    {
     "data": {
      "text/html": [
       "<div>\n",
       "<style scoped>\n",
       "    .dataframe tbody tr th:only-of-type {\n",
       "        vertical-align: middle;\n",
       "    }\n",
       "\n",
       "    .dataframe tbody tr th {\n",
       "        vertical-align: top;\n",
       "    }\n",
       "\n",
       "    .dataframe thead th {\n",
       "        text-align: right;\n",
       "    }\n",
       "</style>\n",
       "<table border=\"1\" class=\"dataframe\">\n",
       "  <thead>\n",
       "    <tr style=\"text-align: right;\">\n",
       "      <th></th>\n",
       "      <th>arc</th>\n",
       "      <th>discoverySubmissionDate</th>\n",
       "      <th>firstObservationDate</th>\n",
       "      <th>flags</th>\n",
       "      <th>g_Chi2</th>\n",
       "      <th>g_G12</th>\n",
       "      <th>g_G12Err</th>\n",
       "      <th>g_H</th>\n",
       "      <th>g_H_gG12_Cov</th>\n",
       "      <th>g_HErr</th>\n",
       "      <th>g_Ndata</th>\n",
       "      <th>i_Chi2</th>\n",
       "      <th>i_G12</th>\n",
       "      <th>i_G12Err</th>\n",
       "      <th>i_H</th>\n",
       "      <th>i_H_iG12_Cov</th>\n",
       "      <th>i_HErr</th>\n",
       "      <th>i_Ndata</th>\n",
       "      <th>maxExtendedness</th>\n",
       "      <th>medianExtendedness</th>\n",
       "      <th>minExtendedness</th>\n",
       "      <th>MOID</th>\n",
       "      <th>MOIDDeltaV</th>\n",
       "      <th>MOIDEclipticLongitude</th>\n",
       "      <th>MOIDTrueAnomaly</th>\n",
       "      <th>numObs</th>\n",
       "      <th>r_Chi2</th>\n",
       "      <th>r_G12</th>\n",
       "      <th>r_G12Err</th>\n",
       "      <th>r_H</th>\n",
       "      <th>r_H_rG12_Cov</th>\n",
       "      <th>r_HErr</th>\n",
       "      <th>r_Ndata</th>\n",
       "      <th>ssObjectId</th>\n",
       "      <th>u_Chi2</th>\n",
       "      <th>u_G12</th>\n",
       "      <th>u_G12Err</th>\n",
       "      <th>u_H</th>\n",
       "      <th>u_H_uG12_Cov</th>\n",
       "      <th>u_HErr</th>\n",
       "      <th>u_Ndata</th>\n",
       "      <th>y_Chi2</th>\n",
       "      <th>y_G12</th>\n",
       "      <th>y_G12Err</th>\n",
       "      <th>y_H</th>\n",
       "      <th>y_H_yG12_Cov</th>\n",
       "      <th>y_HErr</th>\n",
       "      <th>y_Ndata</th>\n",
       "      <th>z_Chi2</th>\n",
       "      <th>z_G12</th>\n",
       "      <th>z_G12Err</th>\n",
       "      <th>z_H</th>\n",
       "      <th>z_H_zG12_Cov</th>\n",
       "      <th>z_HErr</th>\n",
       "      <th>z_Ndata</th>\n",
       "    </tr>\n",
       "  </thead>\n",
       "  <tbody>\n",
       "    <tr>\n",
       "      <th>0</th>\n",
       "      <td>2743.640869</td>\n",
       "      <td>61069.0</td>\n",
       "      <td>61081.33903</td>\n",
       "      <td>66</td>\n",
       "      <td>1.452662</td>\n",
       "      <td>0.615522</td>\n",
       "      <td>0.098302</td>\n",
       "      <td>19.609064</td>\n",
       "      <td>0.001494</td>\n",
       "      <td>0.017851</td>\n",
       "      <td>29</td>\n",
       "      <td>0.910638</td>\n",
       "      <td>0.511137</td>\n",
       "      <td>0.044249</td>\n",
       "      <td>18.725157</td>\n",
       "      <td>0.000237</td>\n",
       "      <td>0.007771</td>\n",
       "      <td>102</td>\n",
       "      <td>0.0</td>\n",
       "      <td>0.0</td>\n",
       "      <td>0.0</td>\n",
       "      <td>0.0</td>\n",
       "      <td>0.0</td>\n",
       "      <td>0.0</td>\n",
       "      <td>0.0</td>\n",
       "      <td>292</td>\n",
       "      <td>1.091330</td>\n",
       "      <td>0.457492</td>\n",
       "      <td>0.035494</td>\n",
       "      <td>18.929785</td>\n",
       "      <td>0.000179</td>\n",
       "      <td>0.006722</td>\n",
       "      <td>99</td>\n",
       "      <td>2150553186630</td>\n",
       "      <td>NaN</td>\n",
       "      <td>NaN</td>\n",
       "      <td>NaN</td>\n",
       "      <td>NaN</td>\n",
       "      <td>NaN</td>\n",
       "      <td>NaN</td>\n",
       "      <td>0</td>\n",
       "      <td>NaN</td>\n",
       "      <td>NaN</td>\n",
       "      <td>NaN</td>\n",
       "      <td>NaN</td>\n",
       "      <td>NaN</td>\n",
       "      <td>NaN</td>\n",
       "      <td>0</td>\n",
       "      <td>1.006678</td>\n",
       "      <td>0.555756</td>\n",
       "      <td>0.092330</td>\n",
       "      <td>18.784210</td>\n",
       "      <td>0.001015</td>\n",
       "      <td>0.015886</td>\n",
       "      <td>62</td>\n",
       "    </tr>\n",
       "    <tr>\n",
       "      <th>1</th>\n",
       "      <td>3608.906494</td>\n",
       "      <td>60222.0</td>\n",
       "      <td>60230.19715</td>\n",
       "      <td>66</td>\n",
       "      <td>1.481137</td>\n",
       "      <td>0.729043</td>\n",
       "      <td>0.183633</td>\n",
       "      <td>21.121069</td>\n",
       "      <td>0.002005</td>\n",
       "      <td>0.033933</td>\n",
       "      <td>9</td>\n",
       "      <td>0.664985</td>\n",
       "      <td>0.611849</td>\n",
       "      <td>0.173546</td>\n",
       "      <td>20.255009</td>\n",
       "      <td>0.000746</td>\n",
       "      <td>0.020321</td>\n",
       "      <td>20</td>\n",
       "      <td>0.0</td>\n",
       "      <td>0.0</td>\n",
       "      <td>0.0</td>\n",
       "      <td>0.0</td>\n",
       "      <td>0.0</td>\n",
       "      <td>0.0</td>\n",
       "      <td>0.0</td>\n",
       "      <td>73</td>\n",
       "      <td>1.580575</td>\n",
       "      <td>0.375160</td>\n",
       "      <td>0.100927</td>\n",
       "      <td>20.433422</td>\n",
       "      <td>0.000503</td>\n",
       "      <td>0.017262</td>\n",
       "      <td>34</td>\n",
       "      <td>3369984299447</td>\n",
       "      <td>NaN</td>\n",
       "      <td>NaN</td>\n",
       "      <td>NaN</td>\n",
       "      <td>NaN</td>\n",
       "      <td>NaN</td>\n",
       "      <td>NaN</td>\n",
       "      <td>0</td>\n",
       "      <td>NaN</td>\n",
       "      <td>NaN</td>\n",
       "      <td>NaN</td>\n",
       "      <td>NaN</td>\n",
       "      <td>NaN</td>\n",
       "      <td>NaN</td>\n",
       "      <td>0</td>\n",
       "      <td>0.660381</td>\n",
       "      <td>0.536995</td>\n",
       "      <td>0.374103</td>\n",
       "      <td>20.243176</td>\n",
       "      <td>-0.001520</td>\n",
       "      <td>0.037589</td>\n",
       "      <td>10</td>\n",
       "    </tr>\n",
       "    <tr>\n",
       "      <th>2</th>\n",
       "      <td>2766.826904</td>\n",
       "      <td>60967.0</td>\n",
       "      <td>60972.25848</td>\n",
       "      <td>98</td>\n",
       "      <td>0.935651</td>\n",
       "      <td>0.777883</td>\n",
       "      <td>0.666359</td>\n",
       "      <td>19.888412</td>\n",
       "      <td>0.080369</td>\n",
       "      <td>0.130168</td>\n",
       "      <td>9</td>\n",
       "      <td>0.642266</td>\n",
       "      <td>0.407395</td>\n",
       "      <td>0.362802</td>\n",
       "      <td>19.001997</td>\n",
       "      <td>0.014024</td>\n",
       "      <td>0.052871</td>\n",
       "      <td>22</td>\n",
       "      <td>0.0</td>\n",
       "      <td>0.0</td>\n",
       "      <td>0.0</td>\n",
       "      <td>0.0</td>\n",
       "      <td>0.0</td>\n",
       "      <td>0.0</td>\n",
       "      <td>0.0</td>\n",
       "      <td>65</td>\n",
       "      <td>1.190715</td>\n",
       "      <td>1.121458</td>\n",
       "      <td>0.306561</td>\n",
       "      <td>19.236397</td>\n",
       "      <td>0.012632</td>\n",
       "      <td>0.048226</td>\n",
       "      <td>32</td>\n",
       "      <td>5992863104062</td>\n",
       "      <td>NaN</td>\n",
       "      <td>NaN</td>\n",
       "      <td>NaN</td>\n",
       "      <td>NaN</td>\n",
       "      <td>NaN</td>\n",
       "      <td>NaN</td>\n",
       "      <td>0</td>\n",
       "      <td>NaN</td>\n",
       "      <td>NaN</td>\n",
       "      <td>NaN</td>\n",
       "      <td>NaN</td>\n",
       "      <td>NaN</td>\n",
       "      <td>NaN</td>\n",
       "      <td>0</td>\n",
       "      <td>NaN</td>\n",
       "      <td>NaN</td>\n",
       "      <td>NaN</td>\n",
       "      <td>NaN</td>\n",
       "      <td>NaN</td>\n",
       "      <td>NaN</td>\n",
       "      <td>0</td>\n",
       "    </tr>\n",
       "    <tr>\n",
       "      <th>3</th>\n",
       "      <td>3624.913574</td>\n",
       "      <td>60222.0</td>\n",
       "      <td>60231.19309</td>\n",
       "      <td>66</td>\n",
       "      <td>2.508380</td>\n",
       "      <td>0.628721</td>\n",
       "      <td>0.058947</td>\n",
       "      <td>16.812340</td>\n",
       "      <td>0.000622</td>\n",
       "      <td>0.010990</td>\n",
       "      <td>43</td>\n",
       "      <td>1.222447</td>\n",
       "      <td>0.596206</td>\n",
       "      <td>0.028352</td>\n",
       "      <td>16.231052</td>\n",
       "      <td>0.000107</td>\n",
       "      <td>0.004729</td>\n",
       "      <td>99</td>\n",
       "      <td>0.0</td>\n",
       "      <td>0.0</td>\n",
       "      <td>0.0</td>\n",
       "      <td>0.0</td>\n",
       "      <td>0.0</td>\n",
       "      <td>0.0</td>\n",
       "      <td>0.0</td>\n",
       "      <td>326</td>\n",
       "      <td>1.452524</td>\n",
       "      <td>0.662213</td>\n",
       "      <td>0.024148</td>\n",
       "      <td>16.356865</td>\n",
       "      <td>0.000096</td>\n",
       "      <td>0.004388</td>\n",
       "      <td>109</td>\n",
       "      <td>6098332225018</td>\n",
       "      <td>NaN</td>\n",
       "      <td>NaN</td>\n",
       "      <td>NaN</td>\n",
       "      <td>NaN</td>\n",
       "      <td>NaN</td>\n",
       "      <td>NaN</td>\n",
       "      <td>0</td>\n",
       "      <td>NaN</td>\n",
       "      <td>NaN</td>\n",
       "      <td>NaN</td>\n",
       "      <td>NaN</td>\n",
       "      <td>NaN</td>\n",
       "      <td>NaN</td>\n",
       "      <td>0</td>\n",
       "      <td>0.759882</td>\n",
       "      <td>0.512872</td>\n",
       "      <td>0.056799</td>\n",
       "      <td>16.219519</td>\n",
       "      <td>0.000464</td>\n",
       "      <td>0.009982</td>\n",
       "      <td>75</td>\n",
       "    </tr>\n",
       "    <tr>\n",
       "      <th>4</th>\n",
       "      <td>3006.040771</td>\n",
       "      <td>60560.0</td>\n",
       "      <td>60561.00433</td>\n",
       "      <td>66</td>\n",
       "      <td>1.329534</td>\n",
       "      <td>0.323159</td>\n",
       "      <td>0.120261</td>\n",
       "      <td>19.314938</td>\n",
       "      <td>0.001951</td>\n",
       "      <td>0.021027</td>\n",
       "      <td>27</td>\n",
       "      <td>1.154313</td>\n",
       "      <td>0.361097</td>\n",
       "      <td>0.068518</td>\n",
       "      <td>18.456484</td>\n",
       "      <td>0.000700</td>\n",
       "      <td>0.013110</td>\n",
       "      <td>72</td>\n",
       "      <td>0.0</td>\n",
       "      <td>0.0</td>\n",
       "      <td>0.0</td>\n",
       "      <td>0.0</td>\n",
       "      <td>0.0</td>\n",
       "      <td>0.0</td>\n",
       "      <td>0.0</td>\n",
       "      <td>222</td>\n",
       "      <td>1.269059</td>\n",
       "      <td>0.622493</td>\n",
       "      <td>0.053717</td>\n",
       "      <td>18.703276</td>\n",
       "      <td>0.000389</td>\n",
       "      <td>0.009624</td>\n",
       "      <td>84</td>\n",
       "      <td>6102997768245</td>\n",
       "      <td>NaN</td>\n",
       "      <td>NaN</td>\n",
       "      <td>NaN</td>\n",
       "      <td>NaN</td>\n",
       "      <td>NaN</td>\n",
       "      <td>NaN</td>\n",
       "      <td>0</td>\n",
       "      <td>NaN</td>\n",
       "      <td>NaN</td>\n",
       "      <td>NaN</td>\n",
       "      <td>NaN</td>\n",
       "      <td>NaN</td>\n",
       "      <td>NaN</td>\n",
       "      <td>0</td>\n",
       "      <td>1.152803</td>\n",
       "      <td>0.168234</td>\n",
       "      <td>0.085888</td>\n",
       "      <td>18.481661</td>\n",
       "      <td>-0.003859</td>\n",
       "      <td>0.049384</td>\n",
       "      <td>39</td>\n",
       "    </tr>\n",
       "  </tbody>\n",
       "</table>\n",
       "</div>"
      ],
      "text/plain": [
       "           arc  discoverySubmissionDate  firstObservationDate  flags   \n",
       "0  2743.640869                  61069.0           61081.33903     66  \\\n",
       "1  3608.906494                  60222.0           60230.19715     66   \n",
       "2  2766.826904                  60967.0           60972.25848     98   \n",
       "3  3624.913574                  60222.0           60231.19309     66   \n",
       "4  3006.040771                  60560.0           60561.00433     66   \n",
       "\n",
       "     g_Chi2     g_G12  g_G12Err        g_H  g_H_gG12_Cov    g_HErr  g_Ndata   \n",
       "0  1.452662  0.615522  0.098302  19.609064      0.001494  0.017851       29  \\\n",
       "1  1.481137  0.729043  0.183633  21.121069      0.002005  0.033933        9   \n",
       "2  0.935651  0.777883  0.666359  19.888412      0.080369  0.130168        9   \n",
       "3  2.508380  0.628721  0.058947  16.812340      0.000622  0.010990       43   \n",
       "4  1.329534  0.323159  0.120261  19.314938      0.001951  0.021027       27   \n",
       "\n",
       "     i_Chi2     i_G12  i_G12Err        i_H  i_H_iG12_Cov    i_HErr  i_Ndata   \n",
       "0  0.910638  0.511137  0.044249  18.725157      0.000237  0.007771      102  \\\n",
       "1  0.664985  0.611849  0.173546  20.255009      0.000746  0.020321       20   \n",
       "2  0.642266  0.407395  0.362802  19.001997      0.014024  0.052871       22   \n",
       "3  1.222447  0.596206  0.028352  16.231052      0.000107  0.004729       99   \n",
       "4  1.154313  0.361097  0.068518  18.456484      0.000700  0.013110       72   \n",
       "\n",
       "   maxExtendedness  medianExtendedness  minExtendedness  MOID  MOIDDeltaV   \n",
       "0              0.0                 0.0              0.0   0.0         0.0  \\\n",
       "1              0.0                 0.0              0.0   0.0         0.0   \n",
       "2              0.0                 0.0              0.0   0.0         0.0   \n",
       "3              0.0                 0.0              0.0   0.0         0.0   \n",
       "4              0.0                 0.0              0.0   0.0         0.0   \n",
       "\n",
       "   MOIDEclipticLongitude  MOIDTrueAnomaly  numObs    r_Chi2     r_G12   \n",
       "0                    0.0              0.0     292  1.091330  0.457492  \\\n",
       "1                    0.0              0.0      73  1.580575  0.375160   \n",
       "2                    0.0              0.0      65  1.190715  1.121458   \n",
       "3                    0.0              0.0     326  1.452524  0.662213   \n",
       "4                    0.0              0.0     222  1.269059  0.622493   \n",
       "\n",
       "   r_G12Err        r_H  r_H_rG12_Cov    r_HErr  r_Ndata     ssObjectId   \n",
       "0  0.035494  18.929785      0.000179  0.006722       99  2150553186630  \\\n",
       "1  0.100927  20.433422      0.000503  0.017262       34  3369984299447   \n",
       "2  0.306561  19.236397      0.012632  0.048226       32  5992863104062   \n",
       "3  0.024148  16.356865      0.000096  0.004388      109  6098332225018   \n",
       "4  0.053717  18.703276      0.000389  0.009624       84  6102997768245   \n",
       "\n",
       "   u_Chi2  u_G12  u_G12Err  u_H  u_H_uG12_Cov  u_HErr  u_Ndata  y_Chi2  y_G12   \n",
       "0     NaN    NaN       NaN  NaN           NaN     NaN        0     NaN    NaN  \\\n",
       "1     NaN    NaN       NaN  NaN           NaN     NaN        0     NaN    NaN   \n",
       "2     NaN    NaN       NaN  NaN           NaN     NaN        0     NaN    NaN   \n",
       "3     NaN    NaN       NaN  NaN           NaN     NaN        0     NaN    NaN   \n",
       "4     NaN    NaN       NaN  NaN           NaN     NaN        0     NaN    NaN   \n",
       "\n",
       "   y_G12Err  y_H  y_H_yG12_Cov  y_HErr  y_Ndata    z_Chi2     z_G12  z_G12Err   \n",
       "0       NaN  NaN           NaN     NaN        0  1.006678  0.555756  0.092330  \\\n",
       "1       NaN  NaN           NaN     NaN        0  0.660381  0.536995  0.374103   \n",
       "2       NaN  NaN           NaN     NaN        0       NaN       NaN       NaN   \n",
       "3       NaN  NaN           NaN     NaN        0  0.759882  0.512872  0.056799   \n",
       "4       NaN  NaN           NaN     NaN        0  1.152803  0.168234  0.085888   \n",
       "\n",
       "         z_H  z_H_zG12_Cov    z_HErr  z_Ndata  \n",
       "0  18.784210      0.001015  0.015886       62  \n",
       "1  20.243176     -0.001520  0.037589       10  \n",
       "2        NaN           NaN       NaN        0  \n",
       "3  16.219519      0.000464  0.009982       75  \n",
       "4  18.481661     -0.003859  0.049384       39  "
      ]
     },
     "execution_count": 10,
     "metadata": {},
     "output_type": "execute_result"
    }
   ],
   "source": [
    "query(\"SELECT * FROM dp03_catalogs_10yr.SSObject LIMIT 5\")"
   ]
  },
  {
   "cell_type": "code",
   "execution_count": 11,
   "metadata": {
    "execution": {
     "iopub.execute_input": "2023-08-10T06:57:07.505817Z",
     "iopub.status.busy": "2023-08-10T06:57:07.505618Z",
     "iopub.status.idle": "2023-08-10T06:57:07.687270Z",
     "shell.execute_reply": "2023-08-10T06:57:07.686656Z",
     "shell.execute_reply.started": "2023-08-10T06:57:07.505799Z"
    },
    "scrolled": true,
    "tags": []
   },
   "outputs": [
    {
     "data": {
      "text/html": [
       "<div>\n",
       "<style scoped>\n",
       "    .dataframe tbody tr th:only-of-type {\n",
       "        vertical-align: middle;\n",
       "    }\n",
       "\n",
       "    .dataframe tbody tr th {\n",
       "        vertical-align: top;\n",
       "    }\n",
       "\n",
       "    .dataframe thead th {\n",
       "        text-align: right;\n",
       "    }\n",
       "</style>\n",
       "<table border=\"1\" class=\"dataframe\">\n",
       "  <thead>\n",
       "    <tr style=\"text-align: right;\">\n",
       "      <th></th>\n",
       "      <th>arc</th>\n",
       "      <th>arcEnd</th>\n",
       "      <th>arcStart</th>\n",
       "      <th>computer</th>\n",
       "      <th>e</th>\n",
       "      <th>epoch</th>\n",
       "      <th>flags</th>\n",
       "      <th>fullDesignation</th>\n",
       "      <th>incl</th>\n",
       "      <th>lastIncludedObservation</th>\n",
       "      <th>mpcDesignation</th>\n",
       "      <th>mpcG</th>\n",
       "      <th>mpcH</th>\n",
       "      <th>mpcNumber</th>\n",
       "      <th>n</th>\n",
       "      <th>nobs</th>\n",
       "      <th>node</th>\n",
       "      <th>nopp</th>\n",
       "      <th>peri</th>\n",
       "      <th>pertsLong</th>\n",
       "      <th>pertsShort</th>\n",
       "      <th>q</th>\n",
       "      <th>reference</th>\n",
       "      <th>rms</th>\n",
       "      <th>ssObjectId</th>\n",
       "      <th>tperi</th>\n",
       "      <th>uncertaintyParameter</th>\n",
       "    </tr>\n",
       "  </thead>\n",
       "  <tbody>\n",
       "    <tr>\n",
       "      <th>0</th>\n",
       "      <td>NaN</td>\n",
       "      <td></td>\n",
       "      <td></td>\n",
       "      <td></td>\n",
       "      <td>0.103647</td>\n",
       "      <td>60065.0</td>\n",
       "      <td>0</td>\n",
       "      <td>2011 1001 T-2</td>\n",
       "      <td>2.25617</td>\n",
       "      <td>NaN</td>\n",
       "      <td>1001 T-2</td>\n",
       "      <td>0.15</td>\n",
       "      <td>13.63</td>\n",
       "      <td>0</td>\n",
       "      <td>NaN</td>\n",
       "      <td>0</td>\n",
       "      <td>178.99415</td>\n",
       "      <td>0</td>\n",
       "      <td>263.847660</td>\n",
       "      <td></td>\n",
       "      <td></td>\n",
       "      <td>2.634824</td>\n",
       "      <td></td>\n",
       "      <td>NaN</td>\n",
       "      <td>-8913159981519932845</td>\n",
       "      <td>60780.776344</td>\n",
       "      <td></td>\n",
       "    </tr>\n",
       "    <tr>\n",
       "      <th>1</th>\n",
       "      <td>NaN</td>\n",
       "      <td></td>\n",
       "      <td></td>\n",
       "      <td></td>\n",
       "      <td>0.109610</td>\n",
       "      <td>60065.0</td>\n",
       "      <td>0</td>\n",
       "      <td>2011 1002 T-2</td>\n",
       "      <td>1.55987</td>\n",
       "      <td>NaN</td>\n",
       "      <td>1002 T-2</td>\n",
       "      <td>0.15</td>\n",
       "      <td>16.07</td>\n",
       "      <td>0</td>\n",
       "      <td>NaN</td>\n",
       "      <td>0</td>\n",
       "      <td>7.45407</td>\n",
       "      <td>0</td>\n",
       "      <td>20.067975</td>\n",
       "      <td></td>\n",
       "      <td></td>\n",
       "      <td>2.063750</td>\n",
       "      <td></td>\n",
       "      <td>NaN</td>\n",
       "      <td>6203778644188667635</td>\n",
       "      <td>60116.299382</td>\n",
       "      <td></td>\n",
       "    </tr>\n",
       "    <tr>\n",
       "      <th>2</th>\n",
       "      <td>NaN</td>\n",
       "      <td></td>\n",
       "      <td></td>\n",
       "      <td></td>\n",
       "      <td>0.145710</td>\n",
       "      <td>60065.0</td>\n",
       "      <td>0</td>\n",
       "      <td>2011 1003 T-2</td>\n",
       "      <td>0.72745</td>\n",
       "      <td>NaN</td>\n",
       "      <td>1003 T-2</td>\n",
       "      <td>0.15</td>\n",
       "      <td>14.13</td>\n",
       "      <td>0</td>\n",
       "      <td>NaN</td>\n",
       "      <td>0</td>\n",
       "      <td>216.03507</td>\n",
       "      <td>0</td>\n",
       "      <td>265.561704</td>\n",
       "      <td></td>\n",
       "      <td></td>\n",
       "      <td>2.647201</td>\n",
       "      <td></td>\n",
       "      <td>NaN</td>\n",
       "      <td>-3002051867512054290</td>\n",
       "      <td>60387.535036</td>\n",
       "      <td></td>\n",
       "    </tr>\n",
       "    <tr>\n",
       "      <th>3</th>\n",
       "      <td>NaN</td>\n",
       "      <td></td>\n",
       "      <td></td>\n",
       "      <td></td>\n",
       "      <td>0.045188</td>\n",
       "      <td>60065.0</td>\n",
       "      <td>0</td>\n",
       "      <td>2011 1004 T-2</td>\n",
       "      <td>6.90619</td>\n",
       "      <td>NaN</td>\n",
       "      <td>1004 T-2</td>\n",
       "      <td>0.15</td>\n",
       "      <td>15.33</td>\n",
       "      <td>0</td>\n",
       "      <td>NaN</td>\n",
       "      <td>0</td>\n",
       "      <td>356.82331</td>\n",
       "      <td>0</td>\n",
       "      <td>20.381252</td>\n",
       "      <td></td>\n",
       "      <td></td>\n",
       "      <td>2.456224</td>\n",
       "      <td></td>\n",
       "      <td>NaN</td>\n",
       "      <td>2844359012889597252</td>\n",
       "      <td>60134.526496</td>\n",
       "      <td></td>\n",
       "    </tr>\n",
       "    <tr>\n",
       "      <th>4</th>\n",
       "      <td>NaN</td>\n",
       "      <td></td>\n",
       "      <td></td>\n",
       "      <td></td>\n",
       "      <td>0.226934</td>\n",
       "      <td>60065.0</td>\n",
       "      <td>0</td>\n",
       "      <td>2011 1004 T-3</td>\n",
       "      <td>8.37026</td>\n",
       "      <td>NaN</td>\n",
       "      <td>1004 T-3</td>\n",
       "      <td>0.15</td>\n",
       "      <td>14.86</td>\n",
       "      <td>0</td>\n",
       "      <td>NaN</td>\n",
       "      <td>0</td>\n",
       "      <td>280.51222</td>\n",
       "      <td>0</td>\n",
       "      <td>43.568468</td>\n",
       "      <td></td>\n",
       "      <td></td>\n",
       "      <td>2.312656</td>\n",
       "      <td></td>\n",
       "      <td>NaN</td>\n",
       "      <td>-8365056588950409896</td>\n",
       "      <td>60275.419079</td>\n",
       "      <td></td>\n",
       "    </tr>\n",
       "  </tbody>\n",
       "</table>\n",
       "</div>"
      ],
      "text/plain": [
       "   arc arcEnd arcStart computer         e    epoch  flags fullDesignation   \n",
       "0  NaN                           0.103647  60065.0      0   2011 1001 T-2  \\\n",
       "1  NaN                           0.109610  60065.0      0   2011 1002 T-2   \n",
       "2  NaN                           0.145710  60065.0      0   2011 1003 T-2   \n",
       "3  NaN                           0.045188  60065.0      0   2011 1004 T-2   \n",
       "4  NaN                           0.226934  60065.0      0   2011 1004 T-3   \n",
       "\n",
       "      incl  lastIncludedObservation mpcDesignation  mpcG   mpcH  mpcNumber   \n",
       "0  2.25617                      NaN       1001 T-2  0.15  13.63          0  \\\n",
       "1  1.55987                      NaN       1002 T-2  0.15  16.07          0   \n",
       "2  0.72745                      NaN       1003 T-2  0.15  14.13          0   \n",
       "3  6.90619                      NaN       1004 T-2  0.15  15.33          0   \n",
       "4  8.37026                      NaN       1004 T-3  0.15  14.86          0   \n",
       "\n",
       "    n  nobs       node  nopp        peri pertsLong pertsShort         q   \n",
       "0 NaN     0  178.99415     0  263.847660                       2.634824  \\\n",
       "1 NaN     0    7.45407     0   20.067975                       2.063750   \n",
       "2 NaN     0  216.03507     0  265.561704                       2.647201   \n",
       "3 NaN     0  356.82331     0   20.381252                       2.456224   \n",
       "4 NaN     0  280.51222     0   43.568468                       2.312656   \n",
       "\n",
       "  reference  rms           ssObjectId         tperi uncertaintyParameter  \n",
       "0            NaN -8913159981519932845  60780.776344                       \n",
       "1            NaN  6203778644188667635  60116.299382                       \n",
       "2            NaN -3002051867512054290  60387.535036                       \n",
       "3            NaN  2844359012889597252  60134.526496                       \n",
       "4            NaN -8365056588950409896  60275.419079                       "
      ]
     },
     "execution_count": 11,
     "metadata": {},
     "output_type": "execute_result"
    }
   ],
   "source": [
    "query(\"SELECT * FROM dp03_catalogs_10yr.mpcorb LIMIT 5\")"
   ]
  },
  {
   "cell_type": "code",
   "execution_count": 12,
   "metadata": {
    "execution": {
     "iopub.execute_input": "2023-08-10T06:57:41.774512Z",
     "iopub.status.busy": "2023-08-10T06:57:41.773942Z",
     "iopub.status.idle": "2023-08-10T06:57:59.889603Z",
     "shell.execute_reply": "2023-08-10T06:57:59.888952Z",
     "shell.execute_reply.started": "2023-08-10T06:57:41.774470Z"
    },
    "tags": []
   },
   "outputs": [
    {
     "data": {
      "text/html": [
       "<div>\n",
       "<style scoped>\n",
       "    .dataframe tbody tr th:only-of-type {\n",
       "        vertical-align: middle;\n",
       "    }\n",
       "\n",
       "    .dataframe tbody tr th {\n",
       "        vertical-align: top;\n",
       "    }\n",
       "\n",
       "    .dataframe thead th {\n",
       "        text-align: right;\n",
       "    }\n",
       "</style>\n",
       "<table border=\"1\" class=\"dataframe\">\n",
       "  <thead>\n",
       "    <tr style=\"text-align: right;\">\n",
       "      <th></th>\n",
       "      <th>band</th>\n",
       "      <th>COUNT</th>\n",
       "    </tr>\n",
       "  </thead>\n",
       "  <tbody>\n",
       "    <tr>\n",
       "      <th>0</th>\n",
       "      <td>g</td>\n",
       "      <td>91849453</td>\n",
       "    </tr>\n",
       "    <tr>\n",
       "      <th>1</th>\n",
       "      <td>i</td>\n",
       "      <td>204528152</td>\n",
       "    </tr>\n",
       "    <tr>\n",
       "      <th>2</th>\n",
       "      <td>r</td>\n",
       "      <td>235002948</td>\n",
       "    </tr>\n",
       "    <tr>\n",
       "      <th>3</th>\n",
       "      <td>u</td>\n",
       "      <td>189</td>\n",
       "    </tr>\n",
       "    <tr>\n",
       "      <th>4</th>\n",
       "      <td>y</td>\n",
       "      <td>875</td>\n",
       "    </tr>\n",
       "    <tr>\n",
       "      <th>5</th>\n",
       "      <td>z</td>\n",
       "      <td>121623827</td>\n",
       "    </tr>\n",
       "  </tbody>\n",
       "</table>\n",
       "</div>"
      ],
      "text/plain": [
       "  band      COUNT\n",
       "0    g   91849453\n",
       "1    i  204528152\n",
       "2    r  235002948\n",
       "3    u        189\n",
       "4    y        875\n",
       "5    z  121623827"
      ]
     },
     "execution_count": 12,
     "metadata": {},
     "output_type": "execute_result"
    }
   ],
   "source": [
    "query(\"SELECT band, COUNT(*) FROM dp03_catalogs_10yr.DiaSource GROUP BY band\")"
   ]
  },
  {
   "cell_type": "markdown",
   "metadata": {},
   "source": [
    "## Selecting and visualizing the available data"
   ]
  },
  {
   "cell_type": "markdown",
   "metadata": {},
   "source": [
    "Now let's grab observations of all solar system observed in some night. We'll pick `MJD 61004`."
   ]
  },
  {
   "cell_type": "code",
   "execution_count": 35,
   "metadata": {
    "execution": {
     "iopub.execute_input": "2023-08-10T05:45:00.118740Z",
     "iopub.status.busy": "2023-08-10T05:45:00.117827Z",
     "iopub.status.idle": "2023-08-10T05:45:05.544968Z",
     "shell.execute_reply": "2023-08-10T05:45:05.544144Z",
     "shell.execute_reply.started": "2023-08-10T05:45:00.118712Z"
    },
    "tags": []
   },
   "outputs": [],
   "source": [
    "sql = \"\"\"\n",
    "    SELECT\n",
    "        ssObjectId, ra, dec, ccdVisitId, midpointMjdTai\n",
    "    FROM\n",
    "        dp03_catalogs_10yr.DiaSource\n",
    "    WHERE\n",
    "        midpointMjdTai BETWEEN 61004-0.5 AND 61004+0.5\n",
    "        AND ssObjectId IS NOT NULL\n",
    "\"\"\"\n",
    "df = query(sql)"
   ]
  },
  {
   "cell_type": "code",
   "execution_count": 36,
   "metadata": {
    "execution": {
     "iopub.execute_input": "2023-08-10T05:45:07.673533Z",
     "iopub.status.busy": "2023-08-10T05:45:07.672677Z",
     "iopub.status.idle": "2023-08-10T05:45:07.677178Z",
     "shell.execute_reply": "2023-08-10T05:45:07.676470Z",
     "shell.execute_reply.started": "2023-08-10T05:45:07.673504Z"
    },
    "tags": []
   },
   "outputs": [
    {
     "name": "stdout",
     "output_type": "stream",
     "text": [
      "In this night, we made 182,132 observations of asteroids.\n"
     ]
    }
   ],
   "source": [
    "print(f\"In this night, we made {len(df):,.0f} observations of asteroids.\")"
   ]
  },
  {
   "cell_type": "markdown",
   "metadata": {},
   "source": [
    "Let's plot them:"
   ]
  },
  {
   "cell_type": "code",
   "execution_count": 37,
   "metadata": {
    "execution": {
     "iopub.execute_input": "2023-08-10T05:45:11.232346Z",
     "iopub.status.busy": "2023-08-10T05:45:11.232009Z",
     "iopub.status.idle": "2023-08-10T05:45:11.540569Z",
     "shell.execute_reply": "2023-08-10T05:45:11.539959Z",
     "shell.execute_reply.started": "2023-08-10T05:45:11.232322Z"
    },
    "tags": []
   },
   "outputs": [
    {
     "data": {
      "image/png": "[encoded data removed]",
      "text/plain": [
       "<Figure size 1400x700 with 1 Axes>"
      ]
     },
     "metadata": {},
     "output_type": "display_data"
    }
   ],
   "source": [
    "import matplotlib.pyplot as plt\n",
    "import numpy as np\n",
    "\n",
    "plt.figure(figsize=(14, 7))\n",
    "plt.scatter(df[\"ra\"], df[\"dec\"], s=1)\n",
    "plt.gca().invert_xaxis()\n",
    "plt.xlabel(\"R.A. (deg)\")\n",
    "plt.ylabel(\"Dec (deg)\")\n",
    "plt.xlim(0, 360)\n",
    "plt.ylim(-90, 90)\n",
    "plt.title(f\"Night MJD 61004\");"
   ]
  },
  {
   "cell_type": "markdown",
   "metadata": {},
   "source": [
    "Now let's find visits with many asteroids observed on them:"
   ]
  },
  {
   "cell_type": "code",
   "execution_count": 38,
   "metadata": {
    "execution": {
     "iopub.execute_input": "2023-08-10T05:45:14.575521Z",
     "iopub.status.busy": "2023-08-10T05:45:14.574626Z",
     "iopub.status.idle": "2023-08-10T05:45:14.589075Z",
     "shell.execute_reply": "2023-08-10T05:45:14.588380Z",
     "shell.execute_reply.started": "2023-08-10T05:45:14.575490Z"
    },
    "tags": []
   },
   "outputs": [
    {
     "data": {
      "text/html": [
       "<div>\n",
       "<style scoped>\n",
       "    .dataframe tbody tr th:only-of-type {\n",
       "        vertical-align: middle;\n",
       "    }\n",
       "\n",
       "    .dataframe tbody tr th {\n",
       "        vertical-align: top;\n",
       "    }\n",
       "\n",
       "    .dataframe thead th {\n",
       "        text-align: right;\n",
       "    }\n",
       "</style>\n",
       "<table border=\"1\" class=\"dataframe\">\n",
       "  <thead>\n",
       "    <tr style=\"text-align: right;\">\n",
       "      <th></th>\n",
       "      <th>ssObjectId</th>\n",
       "      <th>ra</th>\n",
       "      <th>dec</th>\n",
       "      <th>midpointMjdTai</th>\n",
       "    </tr>\n",
       "    <tr>\n",
       "      <th>ccdVisitId</th>\n",
       "      <th></th>\n",
       "      <th></th>\n",
       "      <th></th>\n",
       "      <th></th>\n",
       "    </tr>\n",
       "  </thead>\n",
       "  <tbody>\n",
       "    <tr>\n",
       "      <th>439434</th>\n",
       "      <td>1800</td>\n",
       "      <td>1800</td>\n",
       "      <td>1800</td>\n",
       "      <td>1800</td>\n",
       "    </tr>\n",
       "    <tr>\n",
       "      <th>439484</th>\n",
       "      <td>1528</td>\n",
       "      <td>1528</td>\n",
       "      <td>1528</td>\n",
       "      <td>1528</td>\n",
       "    </tr>\n",
       "    <tr>\n",
       "      <th>439436</th>\n",
       "      <td>1524</td>\n",
       "      <td>1524</td>\n",
       "      <td>1524</td>\n",
       "      <td>1524</td>\n",
       "    </tr>\n",
       "    <tr>\n",
       "      <th>439433</th>\n",
       "      <td>1469</td>\n",
       "      <td>1469</td>\n",
       "      <td>1469</td>\n",
       "      <td>1469</td>\n",
       "    </tr>\n",
       "    <tr>\n",
       "      <th>439438</th>\n",
       "      <td>1379</td>\n",
       "      <td>1379</td>\n",
       "      <td>1379</td>\n",
       "      <td>1379</td>\n",
       "    </tr>\n",
       "    <tr>\n",
       "      <th>...</th>\n",
       "      <td>...</td>\n",
       "      <td>...</td>\n",
       "      <td>...</td>\n",
       "      <td>...</td>\n",
       "    </tr>\n",
       "    <tr>\n",
       "      <th>439880</th>\n",
       "      <td>1</td>\n",
       "      <td>1</td>\n",
       "      <td>1</td>\n",
       "      <td>1</td>\n",
       "    </tr>\n",
       "    <tr>\n",
       "      <th>439939</th>\n",
       "      <td>1</td>\n",
       "      <td>1</td>\n",
       "      <td>1</td>\n",
       "      <td>1</td>\n",
       "    </tr>\n",
       "    <tr>\n",
       "      <th>439887</th>\n",
       "      <td>1</td>\n",
       "      <td>1</td>\n",
       "      <td>1</td>\n",
       "      <td>1</td>\n",
       "    </tr>\n",
       "    <tr>\n",
       "      <th>439937</th>\n",
       "      <td>1</td>\n",
       "      <td>1</td>\n",
       "      <td>1</td>\n",
       "      <td>1</td>\n",
       "    </tr>\n",
       "    <tr>\n",
       "      <th>439796</th>\n",
       "      <td>1</td>\n",
       "      <td>1</td>\n",
       "      <td>1</td>\n",
       "      <td>1</td>\n",
       "    </tr>\n",
       "  </tbody>\n",
       "</table>\n",
       "<p>522 rows × 4 columns</p>\n",
       "</div>"
      ],
      "text/plain": [
       "            ssObjectId    ra   dec  midpointMjdTai\n",
       "ccdVisitId                                        \n",
       "439434            1800  1800  1800            1800\n",
       "439484            1528  1528  1528            1528\n",
       "439436            1524  1524  1524            1524\n",
       "439433            1469  1469  1469            1469\n",
       "439438            1379  1379  1379            1379\n",
       "...                ...   ...   ...             ...\n",
       "439880               1     1     1               1\n",
       "439939               1     1     1               1\n",
       "439887               1     1     1               1\n",
       "439937               1     1     1               1\n",
       "439796               1     1     1               1\n",
       "\n",
       "[522 rows x 4 columns]"
      ]
     },
     "execution_count": 38,
     "metadata": {},
     "output_type": "execute_result"
    }
   ],
   "source": [
    "df.groupby(\"ccdVisitId\").count().sort_values(\"ssObjectId\", ascending=False)"
   ]
  },
  {
   "cell_type": "markdown",
   "metadata": {},
   "source": [
    "### Inspecting a single visit"
   ]
  },
  {
   "cell_type": "code",
   "execution_count": 39,
   "metadata": {
    "execution": {
     "iopub.execute_input": "2023-08-10T05:45:30.317751Z",
     "iopub.status.busy": "2023-08-10T05:45:30.316880Z",
     "iopub.status.idle": "2023-08-10T05:45:30.727316Z",
     "shell.execute_reply": "2023-08-10T05:45:30.726591Z",
     "shell.execute_reply.started": "2023-08-10T05:45:30.317720Z"
    },
    "tags": []
   },
   "outputs": [],
   "source": [
    "sql = \"\"\"\n",
    "    SELECT\n",
    "        ssObjectId, ra, dec, ccdVisitId, midpointMjdTai\n",
    "    FROM\n",
    "        dp03_catalogs_10yr.DiaSource\n",
    "    WHERE\n",
    "        ccdVisitId = 439438\n",
    "        and ssObjectId IS NOT NULL\n",
    "\"\"\"\n",
    "df = query(sql, service)"
   ]
  },
  {
   "cell_type": "code",
   "execution_count": 40,
   "metadata": {
    "execution": {
     "iopub.execute_input": "2023-08-10T05:45:32.867535Z",
     "iopub.status.busy": "2023-08-10T05:45:32.866665Z",
     "iopub.status.idle": "2023-08-10T05:45:33.101165Z",
     "shell.execute_reply": "2023-08-10T05:45:33.100490Z",
     "shell.execute_reply.started": "2023-08-10T05:45:32.867501Z"
    },
    "tags": []
   },
   "outputs": [
    {
     "data": {
      "text/plain": [
       "Text(0.5, 1.0, 'Visit 439438 (MJD 61004.05354)')"
      ]
     },
     "execution_count": 40,
     "metadata": {},
     "output_type": "execute_result"
    },
    {
     "data": {
      "image/png": "[encoded data removed]",
      "text/plain": [
       "<Figure size 1000x1000 with 1 Axes>"
      ]
     },
     "metadata": {},
     "output_type": "display_data"
    }
   ],
   "source": [
    "plt.figure(figsize=(10, 10))\n",
    "plt.scatter(df[\"ra\"], df[\"dec\"], s=1)\n",
    "plt.gca().invert_xaxis()\n",
    "plt.xlabel(\"R.A. (deg)\")\n",
    "plt.ylabel(\"Dec (deg)\")\n",
    "plt.title(f\"Visit {df['ccdVisitId'].iloc[0]} (MJD {df['midpointMjdTai'].iloc[0]:.5f})\")"
   ]
  },
  {
   "cell_type": "markdown",
   "metadata": {},
   "source": [
    "Now grab the same data in ecliptic coordinates. This will demonstrate how to join the DiaSource and SSSource tables:"
   ]
  },
  {
   "cell_type": "code",
   "execution_count": 42,
   "metadata": {
    "execution": {
     "iopub.execute_input": "2023-08-10T05:46:03.795748Z",
     "iopub.status.busy": "2023-08-10T05:46:03.795009Z",
     "iopub.status.idle": "2023-08-10T05:46:04.432520Z",
     "shell.execute_reply": "2023-08-10T05:46:04.431809Z",
     "shell.execute_reply.started": "2023-08-10T05:46:03.795717Z"
    },
    "tags": []
   },
   "outputs": [
    {
     "name": "stdout",
     "output_type": "stream",
     "text": [
      "CPU times: user 32.2 ms, sys: 3.02 ms, total: 35.3 ms\n",
      "Wall time: 633 ms\n"
     ]
    }
   ],
   "source": [
    "%%time\n",
    "sql = \"\"\"\n",
    "    SELECT\n",
    "        eclipticLambda as lon, eclipticBeta as lat, ccdVisitId, midpointMjdTai\n",
    "    FROM\n",
    "        dp03_catalogs_10yr.DiaSource JOIN dp03_catalogs_10yr.SSSource\n",
    "            ON dp03_catalogs_10yr.DiaSource.diaSourceId = dp03_catalogs_10yr.SSSource.diaSourceId\n",
    "    WHERE\n",
    "        ccdVisitId = 439438\n",
    "\"\"\"\n",
    "df = query(sql, service)"
   ]
  },
  {
   "cell_type": "code",
   "execution_count": 43,
   "metadata": {
    "execution": {
     "iopub.execute_input": "2023-08-10T05:46:07.282005Z",
     "iopub.status.busy": "2023-08-10T05:46:07.281627Z",
     "iopub.status.idle": "2023-08-10T05:46:07.563488Z",
     "shell.execute_reply": "2023-08-10T05:46:07.562837Z",
     "shell.execute_reply.started": "2023-08-10T05:46:07.281974Z"
    },
    "tags": []
   },
   "outputs": [
    {
     "data": {
      "image/png": "[encoded data removed]",
      "text/plain": [
       "<Figure size 1000x1000 with 1 Axes>"
      ]
     },
     "metadata": {},
     "output_type": "display_data"
    }
   ],
   "source": [
    "plt.figure(figsize=(10, 10))\n",
    "plt.scatter(df[\"lon\"], df[\"lat\"], s=1)\n",
    "plt.gca().invert_xaxis()\n",
    "plt.xlabel(r\"$\\lambda$ (deg)\")\n",
    "plt.ylabel(r\"$\\beta$ (deg)\")\n",
    "plt.title(f\"Visit {df['ccdVisitId'].iloc[0]} (MJD {df['midpointMjdTai'].iloc[0]:.5f})\");"
   ]
  },
  {
   "cell_type": "markdown",
   "metadata": {},
   "source": [
    "### First month of the survey"
   ]
  },
  {
   "cell_type": "markdown",
   "metadata": {},
   "source": [
    "Let's first find out when this survey started:"
   ]
  },
  {
   "cell_type": "code",
   "execution_count": 44,
   "metadata": {
    "execution": {
     "iopub.execute_input": "2023-08-10T05:46:51.824803Z",
     "iopub.status.busy": "2023-08-10T05:46:51.823928Z",
     "iopub.status.idle": "2023-08-10T05:46:52.035640Z",
     "shell.execute_reply": "2023-08-10T05:46:52.034839Z",
     "shell.execute_reply.started": "2023-08-10T05:46:51.824770Z"
    },
    "tags": []
   },
   "outputs": [
    {
     "data": {
      "text/plain": [
       "60218.00491"
      ]
     },
     "execution_count": 44,
     "metadata": {},
     "output_type": "execute_result"
    }
   ],
   "source": [
    "t0 = query(\"SELECT MIN(midpointMjdTai) as min from dp03_catalogs_10yr.DiaSource\", service)[\"min\"].iloc[0]\n",
    "t0"
   ]
  },
  {
   "cell_type": "code",
   "execution_count": 45,
   "metadata": {
    "execution": {
     "iopub.execute_input": "2023-08-10T05:47:01.553165Z",
     "iopub.status.busy": "2023-08-10T05:47:01.552270Z",
     "iopub.status.idle": "2023-08-10T05:49:09.646002Z",
     "shell.execute_reply": "2023-08-10T05:49:09.645146Z",
     "shell.execute_reply.started": "2023-08-10T05:47:01.553131Z"
    },
    "tags": []
   },
   "outputs": [],
   "source": [
    "sql = \"\"\"\n",
    "    SELECT\n",
    "        ra, dec\n",
    "    FROM\n",
    "        dp03_catalogs_10yr.diaSource\n",
    "    WHERE\n",
    "        midpointMjdTai BETWEEN {start:.0f} AND {end:.0f}\n",
    "\"\"\".format(start=t0, end=t0+30)\n",
    "df = query(sql)"
   ]
  },
  {
   "cell_type": "code",
   "execution_count": 46,
   "metadata": {
    "execution": {
     "iopub.execute_input": "2023-08-10T05:49:44.506261Z",
     "iopub.status.busy": "2023-08-10T05:49:44.505379Z",
     "iopub.status.idle": "2023-08-10T05:49:46.686485Z",
     "shell.execute_reply": "2023-08-10T05:49:46.685635Z",
     "shell.execute_reply.started": "2023-08-10T05:49:44.506232Z"
    },
    "tags": []
   },
   "outputs": [
    {
     "data": {
      "image/png": "[encoded data removed]",
      "text/plain": [
       "<Figure size 1400x700 with 1 Axes>"
      ]
     },
     "metadata": {},
     "output_type": "display_data"
    }
   ],
   "source": [
    "plt.figure(figsize=(14, 7))\n",
    "plt.scatter(df[\"ra\"], df[\"dec\"], s=.1)\n",
    "plt.gca().invert_xaxis()\n",
    "plt.xlabel(\"R.A. (deg)\")\n",
    "plt.ylabel(\"Dec (deg)\")\n",
    "plt.xlim(0, 360)\n",
    "plt.ylim(-90, 90)\n",
    "plt.title(f\"First month of the survey\");"
   ]
  },
  {
   "cell_type": "markdown",
   "metadata": {},
   "source": [
    "### Plot a phase curve"
   ]
  },
  {
   "cell_type": "markdown",
   "metadata": {},
   "source": [
    "Now let's focus on obtaining and analyzing data of individual objects. In particular, let's find a good object to plot (and ultimately fit) a phase curve.\n",
    "\n",
    "A good candidate object will have a) many observations and b) observations taken over a broad range of phase angles. Let's try to find an object like that."
   ]
  },
  {
   "cell_type": "code",
   "execution_count": 48,
   "metadata": {
    "execution": {
     "iopub.execute_input": "2023-08-10T05:52:37.773341Z",
     "iopub.status.busy": "2023-08-10T05:52:37.772502Z",
     "iopub.status.idle": "2023-08-10T05:52:39.574637Z",
     "shell.execute_reply": "2023-08-10T05:52:39.574027Z",
     "shell.execute_reply.started": "2023-08-10T05:52:37.773312Z"
    },
    "tags": []
   },
   "outputs": [
    {
     "data": {
      "text/html": [
       "<div>\n",
       "<style scoped>\n",
       "    .dataframe tbody tr th:only-of-type {\n",
       "        vertical-align: middle;\n",
       "    }\n",
       "\n",
       "    .dataframe tbody tr th {\n",
       "        vertical-align: top;\n",
       "    }\n",
       "\n",
       "    .dataframe thead th {\n",
       "        text-align: right;\n",
       "    }\n",
       "</style>\n",
       "<table border=\"1\" class=\"dataframe\">\n",
       "  <thead>\n",
       "    <tr style=\"text-align: right;\">\n",
       "      <th></th>\n",
       "      <th>mpcdesignation</th>\n",
       "    </tr>\n",
       "  </thead>\n",
       "  <tbody>\n",
       "    <tr>\n",
       "      <th>0</th>\n",
       "      <td>1001 T-2</td>\n",
       "    </tr>\n",
       "    <tr>\n",
       "      <th>1</th>\n",
       "      <td>1002 T-2</td>\n",
       "    </tr>\n",
       "    <tr>\n",
       "      <th>2</th>\n",
       "      <td>1003 T-2</td>\n",
       "    </tr>\n",
       "    <tr>\n",
       "      <th>3</th>\n",
       "      <td>1004 T-2</td>\n",
       "    </tr>\n",
       "    <tr>\n",
       "      <th>4</th>\n",
       "      <td>1004 T-3</td>\n",
       "    </tr>\n",
       "  </tbody>\n",
       "</table>\n",
       "</div>"
      ],
      "text/plain": [
       "  mpcdesignation\n",
       "0       1001 T-2\n",
       "1       1002 T-2\n",
       "2       1003 T-2\n",
       "3       1004 T-2\n",
       "4       1004 T-3"
      ]
     },
     "execution_count": 48,
     "metadata": {},
     "output_type": "execute_result"
    }
   ],
   "source": [
    "sql = \"\"\"\n",
    "    SELECT\n",
    "        mpcdesignation\n",
    "    FROM\n",
    "        dp03_catalogs_10yr.mpcorb\n",
    "    LIMIT 5\n",
    "\"\"\"\n",
    "query(sql)"
   ]
  },
  {
   "cell_type": "code",
   "execution_count": 62,
   "metadata": {
    "execution": {
     "iopub.execute_input": "2023-08-10T06:02:45.831213Z",
     "iopub.status.busy": "2023-08-10T06:02:45.830334Z",
     "iopub.status.idle": "2023-08-10T06:09:25.141257Z",
     "shell.execute_reply": "2023-08-10T06:09:25.140259Z",
     "shell.execute_reply.started": "2023-08-10T06:02:45.831182Z"
    },
    "tags": []
   },
   "outputs": [
    {
     "data": {
      "text/html": [
       "<div>\n",
       "<style scoped>\n",
       "    .dataframe tbody tr th:only-of-type {\n",
       "        vertical-align: middle;\n",
       "    }\n",
       "\n",
       "    .dataframe tbody tr th {\n",
       "        vertical-align: top;\n",
       "    }\n",
       "\n",
       "    .dataframe thead th {\n",
       "        text-align: right;\n",
       "    }\n",
       "</style>\n",
       "<table border=\"1\" class=\"dataframe\">\n",
       "  <thead>\n",
       "    <tr style=\"text-align: right;\">\n",
       "      <th></th>\n",
       "      <th>ssoid</th>\n",
       "      <th>band</th>\n",
       "      <th>phaseRange</th>\n",
       "    </tr>\n",
       "  </thead>\n",
       "  <tbody>\n",
       "    <tr>\n",
       "      <th>0</th>\n",
       "      <td>2336491275747399059</td>\n",
       "      <td>z</td>\n",
       "      <td>127.91191</td>\n",
       "    </tr>\n",
       "    <tr>\n",
       "      <th>1</th>\n",
       "      <td>566420663537098320</td>\n",
       "      <td>r</td>\n",
       "      <td>125.86454</td>\n",
       "    </tr>\n",
       "    <tr>\n",
       "      <th>2</th>\n",
       "      <td>6248582637172853282</td>\n",
       "      <td>r</td>\n",
       "      <td>125.17463</td>\n",
       "    </tr>\n",
       "    <tr>\n",
       "      <th>3</th>\n",
       "      <td>8268570668335894776</td>\n",
       "      <td>r</td>\n",
       "      <td>124.23804</td>\n",
       "    </tr>\n",
       "    <tr>\n",
       "      <th>4</th>\n",
       "      <td>-7025520668476352989</td>\n",
       "      <td>r</td>\n",
       "      <td>122.96802</td>\n",
       "    </tr>\n",
       "  </tbody>\n",
       "</table>\n",
       "</div>"
      ],
      "text/plain": [
       "                 ssoid band phaseRange\n",
       "0  2336491275747399059    z  127.91191\n",
       "1   566420663537098320    r  125.86454\n",
       "2  6248582637172853282    r  125.17463\n",
       "3  8268570668335894776    r  124.23804\n",
       "4 -7025520668476352989    r  122.96802"
      ]
     },
     "execution_count": 62,
     "metadata": {},
     "output_type": "execute_result"
    }
   ],
   "source": [
    "sql = \"\"\"\n",
    "    SELECT\n",
    "        dp03_catalogs_10yr.DiaSource.ssObjectId as ssoid, band,\n",
    "        max(phaseAngle) - min(phaseAngle) AS phaseRange\n",
    "    FROM\n",
    "        dp03_catalogs_10yr.DiaSource\n",
    "            JOIN dp03_catalogs_10yr.SSSource ON dp03_catalogs_10yr.DiaSource.diaSourceId = dp03_catalogs_10yr.SSSource.diaSourceId\n",
    "    GROUP BY\n",
    "        ssoid, band\n",
    "    ORDER BY\n",
    "        phaseRange DESC\n",
    "    LIMIT 5\n",
    "\"\"\"\n",
    "query(sql)"
   ]
  },
  {
   "cell_type": "code",
   "execution_count": 80,
   "metadata": {
    "execution": {
     "iopub.execute_input": "2023-08-10T06:39:44.871867Z",
     "iopub.status.busy": "2023-08-10T06:39:44.871078Z",
     "iopub.status.idle": "2023-08-10T06:39:45.671720Z",
     "shell.execute_reply": "2023-08-10T06:39:45.671022Z",
     "shell.execute_reply.started": "2023-08-10T06:39:44.871825Z"
    },
    "tags": []
   },
   "outputs": [
    {
     "name": "stdout",
     "output_type": "stream",
     "text": [
      "Designation: 2014 QL4\n"
     ]
    }
   ],
   "source": [
    "ssoId = 8268570668335894776\n",
    "sql = f\"\"\"\n",
    "    SELECT\n",
    "        mpcdesignation\n",
    "    FROM\n",
    "        dp03_catalogs_10yr.mpcorb\n",
    "    WHERE\n",
    "        ssObjectId = {ssoId}\n",
    "    LIMIT 5\n",
    "\"\"\"\n",
    "df = query(sql)\n",
    "desig = df[\"mpcdesignation\"].iloc[0]\n",
    "print(f\"Designation: {desig}\")"
   ]
  },
  {
   "cell_type": "code",
   "execution_count": 82,
   "metadata": {
    "execution": {
     "iopub.execute_input": "2023-08-10T06:39:56.161995Z",
     "iopub.status.busy": "2023-08-10T06:39:56.161156Z",
     "iopub.status.idle": "2023-08-10T06:39:56.407743Z",
     "shell.execute_reply": "2023-08-10T06:39:56.406750Z",
     "shell.execute_reply.started": "2023-08-10T06:39:56.161958Z"
    },
    "tags": []
   },
   "outputs": [
    {
     "data": {
      "text/html": [
       "<div>\n",
       "<style scoped>\n",
       "    .dataframe tbody tr th:only-of-type {\n",
       "        vertical-align: middle;\n",
       "    }\n",
       "\n",
       "    .dataframe tbody tr th {\n",
       "        vertical-align: top;\n",
       "    }\n",
       "\n",
       "    .dataframe thead th {\n",
       "        text-align: right;\n",
       "    }\n",
       "</style>\n",
       "<table border=\"1\" class=\"dataframe\">\n",
       "  <thead>\n",
       "    <tr style=\"text-align: right;\">\n",
       "      <th></th>\n",
       "      <th>ssObjectId</th>\n",
       "      <th>mag</th>\n",
       "      <th>magErr</th>\n",
       "      <th>band</th>\n",
       "      <th>mjd</th>\n",
       "      <th>ra</th>\n",
       "      <th>dec</th>\n",
       "      <th>phaseAngle</th>\n",
       "      <th>topocentricDist</th>\n",
       "      <th>heliocentricDist</th>\n",
       "      <th>cmag</th>\n",
       "    </tr>\n",
       "  </thead>\n",
       "  <tbody>\n",
       "    <tr>\n",
       "      <th>0</th>\n",
       "      <td>8268570668335894776</td>\n",
       "      <td>23.521999</td>\n",
       "      <td>0.163</td>\n",
       "      <td>r</td>\n",
       "      <td>61052.13729</td>\n",
       "      <td>62.676760</td>\n",
       "      <td>27.053537</td>\n",
       "      <td>18.636665</td>\n",
       "      <td>1.420081</td>\n",
       "      <td>2.218208</td>\n",
       "      <td>21.030422</td>\n",
       "    </tr>\n",
       "    <tr>\n",
       "      <th>1</th>\n",
       "      <td>8268570668335894776</td>\n",
       "      <td>23.933001</td>\n",
       "      <td>0.351</td>\n",
       "      <td>r</td>\n",
       "      <td>63554.05676</td>\n",
       "      <td>322.086079</td>\n",
       "      <td>-12.309079</td>\n",
       "      <td>31.884970</td>\n",
       "      <td>1.673502</td>\n",
       "      <td>1.863380</td>\n",
       "      <td>21.463362</td>\n",
       "    </tr>\n",
       "    <tr>\n",
       "      <th>2</th>\n",
       "      <td>8268570668335894776</td>\n",
       "      <td>23.742001</td>\n",
       "      <td>0.200</td>\n",
       "      <td>r</td>\n",
       "      <td>63562.05437</td>\n",
       "      <td>325.868688</td>\n",
       "      <td>-11.025605</td>\n",
       "      <td>30.160686</td>\n",
       "      <td>1.837403</td>\n",
       "      <td>1.937720</td>\n",
       "      <td>20.984524</td>\n",
       "    </tr>\n",
       "    <tr>\n",
       "      <th>3</th>\n",
       "      <td>8268570668335894776</td>\n",
       "      <td>22.440001</td>\n",
       "      <td>0.046</td>\n",
       "      <td>r</td>\n",
       "      <td>60230.03315</td>\n",
       "      <td>323.924226</td>\n",
       "      <td>-10.557152</td>\n",
       "      <td>27.637327</td>\n",
       "      <td>1.035835</td>\n",
       "      <td>1.792379</td>\n",
       "      <td>21.096399</td>\n",
       "    </tr>\n",
       "    <tr>\n",
       "      <th>4</th>\n",
       "      <td>8268570668335894776</td>\n",
       "      <td>22.179001</td>\n",
       "      <td>0.042</td>\n",
       "      <td>r</td>\n",
       "      <td>62415.05691</td>\n",
       "      <td>304.799329</td>\n",
       "      <td>-17.016993</td>\n",
       "      <td>37.814331</td>\n",
       "      <td>0.858472</td>\n",
       "      <td>1.528281</td>\n",
       "      <td>21.589355</td>\n",
       "    </tr>\n",
       "  </tbody>\n",
       "</table>\n",
       "</div>"
      ],
      "text/plain": [
       "            ssObjectId        mag  magErr band          mjd          ra   \n",
       "0  8268570668335894776  23.521999   0.163    r  61052.13729   62.676760  \\\n",
       "1  8268570668335894776  23.933001   0.351    r  63554.05676  322.086079   \n",
       "2  8268570668335894776  23.742001   0.200    r  63562.05437  325.868688   \n",
       "3  8268570668335894776  22.440001   0.046    r  60230.03315  323.924226   \n",
       "4  8268570668335894776  22.179001   0.042    r  62415.05691  304.799329   \n",
       "\n",
       "         dec  phaseAngle  topocentricDist  heliocentricDist       cmag  \n",
       "0  27.053537   18.636665         1.420081          2.218208  21.030422  \n",
       "1 -12.309079   31.884970         1.673502          1.863380  21.463362  \n",
       "2 -11.025605   30.160686         1.837403          1.937720  20.984524  \n",
       "3 -10.557152   27.637327         1.035835          1.792379  21.096399  \n",
       "4 -17.016993   37.814331         0.858472          1.528281  21.589355  "
      ]
     },
     "execution_count": 82,
     "metadata": {},
     "output_type": "execute_result"
    }
   ],
   "source": [
    "sql = f\"\"\"\n",
    "    SELECT\n",
    "        ssObject.ssObjectId, mag, magErr, band, midpointMjdTai as mjd, ra, dec, phaseAngle,\n",
    "        topocentricDist, heliocentricDist\n",
    "    FROM\n",
    "        dp03_catalogs_10yr.ssObject\n",
    "        JOIN dp03_catalogs_10yr.diaSource ON dp03_catalogs_10yr.ssObject.ssObjectId   = dp03_catalogs_10yr.diaSource.ssObjectId\n",
    "        JOIN dp03_catalogs_10yr.ssSource  ON dp03_catalogs_10yr.diaSource.diaSourceId = dp03_catalogs_10yr.ssSource.diaSourceId\n",
    "    WHERE\n",
    "        ssObject.ssObjectId = {ssoId} and band='r'\n",
    "\"\"\"\n",
    "df = query(sql)\n",
    "# Distance correction\n",
    "df[\"cmag\"] = df[\"mag\"] - 5*np.log10(df[\"topocentricDist\"]*df[\"heliocentricDist\"])\n",
    "df.head()"
   ]
  },
  {
   "cell_type": "markdown",
   "metadata": {},
   "source": [
    "Now make a plot:"
   ]
  },
  {
   "cell_type": "code",
   "execution_count": 83,
   "metadata": {
    "execution": {
     "iopub.execute_input": "2023-08-10T06:40:00.919219Z",
     "iopub.status.busy": "2023-08-10T06:40:00.917965Z",
     "iopub.status.idle": "2023-08-10T06:40:01.163691Z",
     "shell.execute_reply": "2023-08-10T06:40:01.162806Z",
     "shell.execute_reply.started": "2023-08-10T06:40:00.919180Z"
    },
    "tags": []
   },
   "outputs": [
    {
     "data": {
      "image/png": "[encoded data removed]",
      "text/plain": [
       "<Figure size 1400x600 with 1 Axes>"
      ]
     },
     "metadata": {},
     "output_type": "display_data"
    }
   ],
   "source": [
    "plt.figure(figsize=(14, 6))\n",
    "plt.errorbar(df[\"phaseAngle\"], df[\"cmag\"], df[\"magErr\"], ls='none')\n",
    "plt.gca().invert_yaxis()\n",
    "plt.xlabel(\"Phase Angle (deg)\")\n",
    "plt.ylabel(\"Distance corrected mag_r (mag)\")\n",
    "plt.title(f'Phase curve for {desig}, r band');"
   ]
  },
  {
   "cell_type": "markdown",
   "metadata": {},
   "source": [
    "Now grab our (H, G12) fit, and overplot it"
   ]
  },
  {
   "cell_type": "code",
   "execution_count": 86,
   "metadata": {
    "execution": {
     "iopub.execute_input": "2023-08-10T06:42:48.129713Z",
     "iopub.status.busy": "2023-08-10T06:42:48.128906Z",
     "iopub.status.idle": "2023-08-10T06:42:49.903512Z",
     "shell.execute_reply": "2023-08-10T06:42:49.902889Z",
     "shell.execute_reply.started": "2023-08-10T06:42:48.129683Z"
    },
    "tags": []
   },
   "outputs": [
    {
     "data": {
      "text/html": [
       "<div>\n",
       "<style scoped>\n",
       "    .dataframe tbody tr th:only-of-type {\n",
       "        vertical-align: middle;\n",
       "    }\n",
       "\n",
       "    .dataframe tbody tr th {\n",
       "        vertical-align: top;\n",
       "    }\n",
       "\n",
       "    .dataframe thead th {\n",
       "        text-align: right;\n",
       "    }\n",
       "</style>\n",
       "<table border=\"1\" class=\"dataframe\">\n",
       "  <thead>\n",
       "    <tr style=\"text-align: right;\">\n",
       "      <th></th>\n",
       "      <th>r_H</th>\n",
       "      <th>r_G12</th>\n",
       "      <th>r_HErr</th>\n",
       "      <th>r_G12Err</th>\n",
       "      <th>r_Chi2</th>\n",
       "    </tr>\n",
       "  </thead>\n",
       "  <tbody>\n",
       "    <tr>\n",
       "      <th>0</th>\n",
       "      <td>19.805893</td>\n",
       "      <td>1.529326</td>\n",
       "      <td>0.019743</td>\n",
       "      <td>0.050717</td>\n",
       "      <td>8.480854</td>\n",
       "    </tr>\n",
       "  </tbody>\n",
       "</table>\n",
       "</div>"
      ],
      "text/plain": [
       "         r_H     r_G12    r_HErr  r_G12Err    r_Chi2\n",
       "0  19.805893  1.529326  0.019743  0.050717  8.480854"
      ]
     },
     "execution_count": 86,
     "metadata": {},
     "output_type": "execute_result"
    }
   ],
   "source": [
    "sql = f\"\"\"\n",
    "    SELECT\n",
    "        r_H, r_G12, r_HErr, r_G12Err, r_Chi2\n",
    "    FROM\n",
    "        dp03_catalogs_10yr.ssObject\n",
    "    WHERE\n",
    "        ssObjectId={ssoId}\n",
    "\"\"\"\n",
    "hg = query(sql)\n",
    "hg"
   ]
  },
  {
   "cell_type": "code",
   "execution_count": 90,
   "metadata": {
    "execution": {
     "iopub.execute_input": "2023-08-10T06:44:02.205838Z",
     "iopub.status.busy": "2023-08-10T06:44:02.204895Z",
     "iopub.status.idle": "2023-08-10T06:44:02.419061Z",
     "shell.execute_reply": "2023-08-10T06:44:02.417891Z",
     "shell.execute_reply.started": "2023-08-10T06:44:02.205808Z"
    },
    "tags": []
   },
   "outputs": [
    {
     "ename": "ModuleNotFoundError",
     "evalue": "No module named 'sbpy'",
     "output_type": "error",
     "traceback": [
      "\u001b[0;31m---------------------------------------------------------------------------\u001b[0m",
      "\u001b[0;31mModuleNotFoundError\u001b[0m                       Traceback (most recent call last)",
      "Input \u001b[0;32mIn [90]\u001b[0m, in \u001b[0;36m<cell line: 8>\u001b[0;34m()\u001b[0m\n\u001b[1;32m      5\u001b[0m plt\u001b[38;5;241m.\u001b[39mylabel(\u001b[38;5;124m\"\u001b[39m\u001b[38;5;124mDistance corrected mag_r (mag)\u001b[39m\u001b[38;5;124m\"\u001b[39m)\n\u001b[1;32m      6\u001b[0m plt\u001b[38;5;241m.\u001b[39mtitle(\u001b[38;5;124mf\u001b[39m\u001b[38;5;124m'\u001b[39m\u001b[38;5;124mPhase curve for \u001b[39m\u001b[38;5;132;01m{\u001b[39;00mdesig\u001b[38;5;132;01m}\u001b[39;00m\u001b[38;5;124m, r band\u001b[39m\u001b[38;5;124m'\u001b[39m)\n\u001b[0;32m----> 8\u001b[0m \u001b[38;5;28;01mfrom\u001b[39;00m \u001b[38;5;21;01msbpy\u001b[39;00m\u001b[38;5;21;01m.\u001b[39;00m\u001b[38;5;21;01mphotometry\u001b[39;00m \u001b[38;5;28;01mimport\u001b[39;00m HG\n\u001b[1;32m      9\u001b[0m H, G, sigmaH, sigmaG, chi2dof \u001b[38;5;241m=\u001b[39m hg\u001b[38;5;241m.\u001b[39miloc[\u001b[38;5;241m0\u001b[39m]\n\u001b[1;32m     10\u001b[0m _ph \u001b[38;5;241m=\u001b[39m \u001b[38;5;28msorted\u001b[39m(df[\u001b[38;5;124m\"\u001b[39m\u001b[38;5;124mphaseAngle\u001b[39m\u001b[38;5;124m\"\u001b[39m])\n",
      "\u001b[0;31mModuleNotFoundError\u001b[0m: No module named 'sbpy'"
     ]
    },
    {
     "data": {
      "image/png": "[encoded data removed]",
      "text/plain": [
       "<Figure size 1400x600 with 1 Axes>"
      ]
     },
     "metadata": {},
     "output_type": "display_data"
    }
   ],
   "source": [
    "plt.figure(figsize=(14, 6))\n",
    "plt.errorbar(df[\"phaseAngle\"], df[\"cmag\"], df[\"magErr\"], ls='none')\n",
    "plt.gca().invert_yaxis()\n",
    "plt.xlabel(\"Phase Angle (deg)\")\n",
    "plt.ylabel(\"Distance corrected mag_r (mag)\")\n",
    "plt.title(f'Phase curve for {desig}, r band')\n",
    "\n",
    "from sbpy.photometry import HG\n",
    "H, G, sigmaH, sigmaG, chi2dof = hg.iloc[0]\n",
    "_ph = sorted(df[\"phaseAngle\"])\n",
    "_mag = HG.evaluate(np.deg2rad(_ph), H, G)\n",
    "plt.plot(_ph, _mag)\n",
    "print(f\"H={H:.2f}±{sigmaH:.3}, G={G:.2f}±{sigmaG:.3}, χ2/dof={chi2dof:.3f}\")"
   ]
  },
  {
   "cell_type": "markdown",
   "metadata": {},
   "source": [
    "## A Look at the input population"
   ]
  },
  {
   "cell_type": "markdown",
   "metadata": {},
   "source": [
    "This largely S3M, so it should correspond to the plots from the Grav et al. 2011 paper."
   ]
  },
  {
   "cell_type": "code",
   "execution_count": 99,
   "metadata": {
    "execution": {
     "iopub.execute_input": "2023-08-10T06:47:31.654651Z",
     "iopub.status.busy": "2023-08-10T06:47:31.653794Z",
     "iopub.status.idle": "2023-08-10T06:47:32.810203Z",
     "shell.execute_reply": "2023-08-10T06:47:32.809440Z",
     "shell.execute_reply.started": "2023-08-10T06:47:31.654620Z"
    },
    "tags": []
   },
   "outputs": [
    {
     "data": {
      "text/plain": [
       "Text(0, 0.5, 'Objects in bin')"
      ]
     },
     "execution_count": 99,
     "metadata": {},
     "output_type": "execute_result"
    },
    {
     "data": {
      "image/png": "[encoded data removed]",
      "text/plain": [
       "<Figure size 1000x500 with 1 Axes>"
      ]
     },
     "metadata": {},
     "output_type": "display_data"
    }
   ],
   "source": [
    "sql = \"\"\"\n",
    "    SELECT\n",
    "        FLOOR(mpcH*10)/10 AS binH, count(*)\n",
    "    FROM\n",
    "        dp03_catalogs_10yr.mpcorb\n",
    "    GROUP BY binH\n",
    "\"\"\"\n",
    "df = query(sql)\n",
    "plt.figure(figsize=(10, 5))\n",
    "plt.plot(df[\"binH\"].astype(float), df[\"count\"])\n",
    "plt.xlabel(\"H (mag)\")\n",
    "plt.ylabel(\"Objects in bin\")"
   ]
  },
  {
   "cell_type": "code",
   "execution_count": null,
   "metadata": {},
   "outputs": [],
   "source": []
  }
 ],
 "metadata": {
  "kernelspec": {
   "display_name": "LSST",
   "language": "python",
   "name": "lsst"
  },
  "language_info": {
   "codemirror_mode": {
    "name": "ipython",
    "version": 3
   },
   "file_extension": ".py",
   "mimetype": "text/x-python",
   "name": "python",
   "nbconvert_exporter": "python",
   "pygments_lexer": "ipython3",
   "version": "3.10.10"
  }
 },
 "nbformat": 4,
 "nbformat_minor": 4
}
